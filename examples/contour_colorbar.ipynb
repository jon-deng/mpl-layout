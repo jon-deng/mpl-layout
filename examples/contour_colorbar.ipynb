{
 "cells": [
  {
   "cell_type": "markdown",
   "metadata": {},
   "source": [
    "# Contour plot with colorbar\n"
   ]
  },
  {
   "cell_type": "code",
   "execution_count": null,
   "metadata": {},
   "outputs": [],
   "source": [
    "import numpy as np\n",
    "\n",
    "import matplotlib as mpl\n",
    "from mpllayout import geometry as geo\n",
    "from mpllayout.solver import solve\n",
    "from mpllayout.layout import Layout\n",
    "\n",
    "from mpllayout.matplotlibutils import subplots"
   ]
  },
  {
   "cell_type": "code",
   "execution_count": null,
   "metadata": {},
   "outputs": [],
   "source": [
    "# Use this so matplotlib figures are showed with whitespace\n",
    "%matplotlib inline\n",
    "%config InlineBackend.print_figure_kwargs = {'bbox_inches': None}"
   ]
  },
  {
   "cell_type": "markdown",
   "metadata": {},
   "source": [
    "## Create a layout"
   ]
  },
  {
   "cell_type": "code",
   "execution_count": null,
   "metadata": {},
   "outputs": [],
   "source": [
    "## Create the figure and two axes (one for the contour plot and one for the colorbar)\n",
    "\n",
    "### Primitives\n",
    "# Create a `Layout` to track all geometric primitives and constraints\n",
    "layout = Layout()\n",
    "\n",
    "# Create the main geometric primitives\n",
    "layout.add_prim(pr.Quadrilateral(), \"Figure\")\n",
    "layout.add_prim(pr.Axes(), \"AxesContour\")\n",
    "layout.add_prim(pr.Axes(), \"AxesColorbar\")\n",
    "\n",
    "### Constraints\n",
    "\n",
    "# Make all the quadrilaterals rectangular\n",
    "layout.add_constraint(geo.Box(), (\"Figure\",), ())\n",
    "layout.add_constraint(geo.Box(), (\"AxesContour/Frame\",), ())\n",
    "layout.add_constraint(geo.Box(), (\"AxesColorbar/Frame\",), ())\n",
    "\n",
    "## Figure size\n",
    "# Set the figure width\n",
    "layout.add_constraint(geo.Length(), (\"Figure/Line0\",), (5,))\n",
    "\n",
    "# Fix the figure's lower left corner to the origin\n",
    "layout.add_constraint(geo.Fix(), (\"Figure/Line0/Point0\",), (np.array([0, 0]),))\n",
    "\n",
    "## Axes sizes\n",
    "\n",
    "# Set the aspect ratio to match physical dimensions\n",
    "layout.add_constraint(\n",
    "    geo.RelativeLength(), (\"AxesContour/Frame/Line0\", \"AxesContour/Frame/Line1\"), (2,)\n",
    ")\n",
    "\n",
    "# Set the color bar height to 1/4 inch\n",
    "layout.add_constraint(geo.Length(), (\"AxesColorbar/Frame/Line1\",), (1 / 8,))\n",
    "\n",
    "## Align the color bar with the contour plot\n",
    "# Make the left/right sides collinear\n",
    "layout.add_constraint(\n",
    "    geo.Collinear(), (\"AxesContour/Frame/Line3\", \"AxesColorbar/Frame/Line3\"), ()\n",
    ")\n",
    "layout.add_constraint(\n",
    "    geo.Collinear(), (\"AxesContour/Frame/Line1\", \"AxesColorbar/Frame/Line1\"), ()\n",
    ")\n",
    "\n",
    "## Margins\n",
    "# Place the color bar 1/16 inch above the contour plot\n",
    "layout.add_constraint(\n",
    "    geo.MidpointYDistance(),\n",
    "    (\"AxesContour/Frame/Line2\", \"AxesColorbar/Frame/Line0\"),\n",
    "    (1 / 16,)\n",
    ")\n",
    "\n",
    "# Set the left margin to 6/8 inch from the contour plot\n",
    "layout.add_constraint(\n",
    "    geo.MidpointXDistance(), (\"Figure/Line3\", \"AxesContour/Frame/Line3\"), (6 / 8,)\n",
    ")\n",
    "\n",
    "# Set the right margin 1/8 inch from the contour plot\n",
    "layout.add_constraint(\n",
    "    geo.MidpointXDistance(), (\"AxesContour/Frame/Line1\", \"Figure/Line1\"), (1 / 8,)\n",
    ")\n",
    "\n",
    "# Set the top margin to 1/2 inch\n",
    "layout.add_constraint(\n",
    "    geo.MidpointYDistance(), (\"AxesColorbar/Frame/Line2\", \"Figure/Line2\"), (1 / 2,)\n",
    ")\n",
    "\n",
    "# Set the bottom margin to 6/8 inch\n",
    "layout.add_constraint(\n",
    "    geo.MidpointYDistance(), (\"Figure/Line0\", \"AxesContour/Frame/Line0\"), (6 / 8,)\n",
    ")"
   ]
  },
  {
   "cell_type": "code",
   "execution_count": null,
   "metadata": {},
   "outputs": [],
   "source": [
    "## Solve the constrained system of plots\n",
    "\n",
    "root_prim_n, solve_info = solve(layout)\n",
    "\n",
    "fig, axs = subplots(root_prim_n)\n",
    "# The sizes of `fig` and axes in `axs` will reflect the constraints\n",
    "# `axs['AxesColorbar']` is the colorbar and `axs['AxesContour']` is the contour\n",
    "\n",
    "\n",
    "print(fig.get_size_inches())\n",
    "\n",
    "x = np.linspace(0, 10, 51)\n",
    "y = np.linspace(0, 5, 26)\n",
    "xx, yy = np.meshgrid(x, y)\n",
    "z = (xx - 5) ** 2 + (yy - 2.5) ** 2\n",
    "\n",
    "cset = axs[\"AxesContour\"].contourf(x, y, z)\n",
    "\n",
    "axs[\"AxesContour\"].set_xlabel(\"x [cm]\")\n",
    "axs[\"AxesContour\"].set_ylabel(\"y [cm]\")\n",
    "\n",
    "fig.colorbar(cset, cax=axs[\"AxesColorbar\"], orientation=\"horizontal\")\n",
    "axs[\"AxesColorbar\"].xaxis.set_label_text(\"z [cm]\")\n",
    "axs[\"AxesColorbar\"].xaxis.set_tick_params(\n",
    "    top=True, labeltop=True, bottom=False, labelbottom=False\n",
    ")\n",
    "axs[\"AxesColorbar\"].xaxis.set_label_position(position=\"top\")\n",
    "\n",
    "fig.savefig(\"contour_colorbar.png\")"
   ]
  },
  {
   "cell_type": "code",
   "execution_count": null,
   "metadata": {},
   "outputs": [],
   "source": []
  }
 ],
 "metadata": {
  "kernelspec": {
   "display_name": "numerics",
   "language": "python",
   "name": "python3"
  },
  "language_info": {
   "codemirror_mode": {
    "name": "ipython",
    "version": 3
   },
   "file_extension": ".py",
   "mimetype": "text/x-python",
   "name": "python",
   "nbconvert_exporter": "python",
   "pygments_lexer": "ipython3",
   "version": "3.12.7"
  }
 },
 "nbformat": 4,
 "nbformat_minor": 2
}
