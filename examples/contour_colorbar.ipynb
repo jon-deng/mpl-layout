{
 "cells": [
  {
   "cell_type": "markdown",
   "metadata": {},
   "source": [
    "# Contour plot with colorbar\n"
   ]
  },
  {
   "cell_type": "code",
   "execution_count": null,
   "metadata": {},
   "outputs": [],
   "source": [
    "import numpy as np\n",
    "\n",
    "import matplotlib as mpl\n",
    "from mpllayout import geometry as geo, layout as mlay, solver as msol\n",
    "from mpllayout.matplotlibutils import subplots"
   ]
  },
  {
   "cell_type": "code",
   "execution_count": null,
   "metadata": {},
   "outputs": [],
   "source": [
    "# This ensures matplotlib figures don't clip any whitespace\n",
    "%matplotlib inline\n",
    "%config InlineBackend.print_figure_kwargs = {'bbox_inches': None}"
   ]
  },
  {
   "cell_type": "markdown",
   "metadata": {},
   "source": [
    "## Create a layout"
   ]
  },
  {
   "cell_type": "code",
   "execution_count": null,
   "metadata": {},
   "outputs": [],
   "source": [
    "## Create the figure and two axes (one for the contour plot and one for the colorbar)\n",
    "\n",
    "### Primitives\n",
    "# Create a `Layout` to track all geometric primitives and constraints\n",
    "layout = mlay.Layout()\n",
    "\n",
    "# Create the main geometric primitives\n",
    "layout.add_prim(geo.Point(), \"Origin\")\n",
    "layout.add_prim(geo.Quadrilateral(), \"Figure\")\n",
    "layout.add_prim(geo.Axes(), \"AxesContour\")\n",
    "layout.add_prim(geo.Axes(), \"AxesColorbar\")\n",
    "\n",
    "### Constraints\n",
    "\n",
    "# Fix the origin\n",
    "layout.add_constraint(geo.Fix((np.array([0, 0]),)), (\"Origin\",))\n",
    "\n",
    "# Make all the quadrilaterals rectangular\n",
    "layout.add_constraint(geo.Box(()), (\"Figure\",))\n",
    "layout.add_constraint(geo.Box(()), (\"AxesContour/Frame\",))\n",
    "layout.add_constraint(geo.Box(()), (\"AxesColorbar/Frame\",))\n",
    "\n",
    "## Figure size\n",
    "layout.add_constraint(geo.Length((7,)), (\"Figure/Line0\",))\n",
    "layout.add_constraint(geo.Coincident(()), (\"Figure/Line0/Point0\", \"Origin\"))\n",
    "\n",
    "## Axes sizes\n",
    "\n",
    "# Set the aspect ratio to match physical dimensions\n",
    "layout.add_constraint(\n",
    "    geo.RelativeLength((2,)), (\"AxesContour/Frame/Line0\", \"AxesContour/Frame/Line1\")\n",
    ")\n",
    "\n",
    "# Set the color bar height to 1/16 inch\n",
    "layout.add_constraint(geo.Length((1 / 16,)), (\"AxesColorbar/Frame/Line1\",))\n",
    "\n",
    "## Align the color bar with the contour plot\n",
    "layout.add_constraint(\n",
    "    geo.Collinear(()), (\"AxesContour/Frame/Line3\", \"AxesColorbar/Frame/Line3\")\n",
    ")\n",
    "layout.add_constraint(\n",
    "    geo.Collinear(()), (\"AxesContour/Frame/Line1\", \"AxesColorbar/Frame/Line1\")\n",
    ")\n",
    "\n",
    "## Margins\n",
    "# Place the color bar 1/16 inch above the contour plot\n",
    "layout.add_constraint(\n",
    "    geo.YDistanceMidpoints((1 / 32,)),\n",
    "    (\"AxesContour/Frame/Line2\", \"AxesColorbar/Frame/Line0\"),\n",
    ")\n",
    "\n",
    "# Set the left margin to 1/2 inch from the contour plot\n",
    "layout.add_constraint(\n",
    "    geo.XDistanceMidpoints((1 / 2,)), (\"Figure/Line3\", \"AxesContour/Frame/Line3\")\n",
    ")\n",
    "\n",
    "# Set the right margin 1/8 inch from the contour plot\n",
    "layout.add_constraint(\n",
    "    geo.XDistanceMidpoints((1 / 8,)), (\"AxesContour/Frame/Line1\", \"Figure/Line1\")\n",
    ")\n",
    "\n",
    "# Set the top margin to 1/2 inch\n",
    "layout.add_constraint(\n",
    "    geo.YDistanceMidpoints((1 / 2,)), (\"AxesColorbar/Frame/Line2\", \"Figure/Line2\")\n",
    ")\n",
    "\n",
    "# Set the bottom margin to 1/2 inch\n",
    "layout.add_constraint(\n",
    "    geo.YDistanceMidpoints((1 / 2,)), (\"Figure/Line0\", \"AxesContour/Frame/Line0\")\n",
    ")"
   ]
  },
  {
   "cell_type": "code",
   "execution_count": null,
   "metadata": {},
   "outputs": [],
   "source": [
    "## Solve the constrained system of plots\n",
    "\n",
    "root_prim_n, solve_info = msol.solve(layout.root_prim, *layout.flat_constraints())\n",
    "\n",
    "print(solve_info)\n",
    "\n",
    "fig, axs = subplots(root_prim_n)\n",
    "print(fig.get_size_inches())\n",
    "\n",
    "x = np.linspace(0, 10, 51)\n",
    "y = np.linspace(0, 5, 26)\n",
    "xx, yy = np.meshgrid(x, y)\n",
    "z = (xx - 5) ** 2 + (yy - 2.5) ** 2\n",
    "\n",
    "cset = axs[\"AxesContour\"].contourf(x, y, z)\n",
    "\n",
    "axs[\"AxesContour\"].set_xlabel(\"x [cm]\")\n",
    "axs[\"AxesContour\"].set_ylabel(\"y [cm]\")\n",
    "\n",
    "fig.colorbar(cset, cax=axs[\"AxesColorbar\"], orientation=\"horizontal\")\n",
    "axs[\"AxesColorbar\"].xaxis.set_label_text(\"z [cm]\")\n",
    "axs[\"AxesColorbar\"].xaxis.set_tick_params(\n",
    "    top=True, labeltop=True, bottom=False, labelbottom=False\n",
    ")\n",
    "axs[\"AxesColorbar\"].xaxis.set_label_position(position=\"top\")\n",
    "\n",
    "fig.savefig(\"out/contour_colorbar.png\")\n",
    "\n",
    "fig"
   ]
  },
  {
   "cell_type": "code",
   "execution_count": null,
   "metadata": {},
   "outputs": [],
   "source": []
  }
 ],
 "metadata": {
  "kernelspec": {
   "display_name": "numerics",
   "language": "python",
   "name": "python3"
  },
  "language_info": {
   "codemirror_mode": {
    "name": "ipython",
    "version": 3
   },
   "file_extension": ".py",
   "mimetype": "text/x-python",
   "name": "python",
   "nbconvert_exporter": "python",
   "pygments_lexer": "ipython3",
   "version": "3.12.5"
  }
 },
 "nbformat": 4,
 "nbformat_minor": 2
}
