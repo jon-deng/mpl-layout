{
 "cells": [
  {
   "cell_type": "markdown",
   "id": "c68f727a-0e1d-4c98-9cb1-9c32254781aa",
   "metadata": {},
   "source": [
    "# Create a Two Axes Figure Layout"
   ]
  },
  {
   "cell_type": "code",
   "execution_count": null,
   "id": "d34bdb25-f53c-428c-991a-ec041b53e6bb",
   "metadata": {},
   "outputs": [],
   "source": [
    "import typing as typ\n",
    "\n",
    "import numpy as np\n",
    "from matplotlib import pyplot as plt\n",
    "\n",
    "from mpllayout import solver, geometry as geo, matplotlibutils as lplt, ui, array\n",
    "\n",
    "PrimIdx = geo.PrimitiveIndex"
   ]
  },
  {
   "cell_type": "code",
   "execution_count": null,
   "id": "5fa36527-4628-4f1c-8b0d-2a78716552c1",
   "metadata": {},
   "outputs": [],
   "source": [
    "def plot_layout(layout: solver.Layout, fig_path: typ.Optional[str]=None):\n",
    "    prims, info = solver.solve(\n",
    "        layout.prims, layout.constraints, layout.constraint_graph,\n",
    "        max_iter=40, rel_tol=1e-9\n",
    "    )\n",
    "    \"\"\"\n",
    "    Plot all the primitives in the current layout\n",
    "    \n",
    "    This creates a figure illustrating where all the plot elements are\n",
    "    \"\"\"\n",
    "    root_prim_labels = [label for label in prims.keys() if '.' not in label]\n",
    "    root_prims = [prims[label] for label in root_prim_labels]\n",
    "\n",
    "    fig, ax = plt.subplots(1, 1)\n",
    "\n",
    "    ax.set_xlim(-1, 10)\n",
    "    ax.set_ylim(-1, 10)\n",
    "    ax.set_xticks(np.arange(-1, 11, 1))\n",
    "    ax.set_yticks(np.arange(-1, 11, 1))\n",
    "    ax.set_aspect(1)\n",
    "\n",
    "    ax.set_xlabel(\"x [in]\")\n",
    "    ax.set_ylabel(\"y [in]\")\n",
    "    ui.plot_prims(ax, array.LabelledList(root_prims, root_prim_labels))\n",
    "    \n",
    "    if fig_path is not None:\n",
    "        fig.savefig(fig_path)\n",
    "    return fig, ax"
   ]
  },
  {
   "cell_type": "markdown",
   "id": "8e52c249-0a59-442a-83e7-de0b062abbed",
   "metadata": {},
   "source": [
    "## Create the plot layout\n",
    "\n",
    "Firstly, create a layout object to handle the collection of primitives, and linking of constraints with those primitives"
   ]
  },
  {
   "cell_type": "code",
   "execution_count": null,
   "id": "a0aadbe6-77c0-4fd8-a4f7-cb0b312d5f89",
   "metadata": {},
   "outputs": [],
   "source": [
    "layout = solver.Layout()"
   ]
  },
  {
   "cell_type": "markdown",
   "id": "8f0fc1a4-bb4d-4e5b-aa05-585549f8b21a",
   "metadata": {},
   "source": [
    "### Create an origin point"
   ]
  },
  {
   "cell_type": "code",
   "execution_count": null,
   "id": "009ef13c-0f6b-4e53-b125-d31ffee6ac7e",
   "metadata": {},
   "outputs": [],
   "source": [
    "layout.add_prim(geo.Point([0, 0]), 'Origin')\n",
    "# Constrain the origin to be at (0, 0)\n",
    "layout.add_constraint(\n",
    "    geo.PointLocation(np.array([0, 0])),\n",
    "    (PrimIdx('Origin'),)\n",
    ")\n",
    "\n",
    "plot_layout(layout)"
   ]
  },
  {
   "cell_type": "markdown",
   "id": "77921ee0-88ab-4409-8cf2-5104809b1866",
   "metadata": {},
   "source": [
    "### Create a box to represent the figure"
   ]
  },
  {
   "cell_type": "code",
   "execution_count": null,
   "id": "83e8d7bb-bde8-47fd-b12d-9b42f7b62c57",
   "metadata": {},
   "outputs": [],
   "source": [
    "verts = [[0, 0], [5, 0], [5, 5], [0, 5]]\n",
    "# Create the box with an initial size of 5 by 5 and call it 'Figure'\n",
    "layout.add_prim(\n",
    "    geo.Box(prims=[geo.Point(vert) for vert in verts]),\n",
    "    'Figure'\n",
    ")\n",
    "\n",
    "plot_layout(layout)"
   ]
  },
  {
   "cell_type": "markdown",
   "id": "b8c0fde2-39f1-4637-959a-fee3ba84af9e",
   "metadata": {},
   "source": [
    "### Create another box to represent the left axes"
   ]
  },
  {
   "cell_type": "code",
   "execution_count": null,
   "id": "90539e1d-b569-48a5-98ac-5f65c53d6707",
   "metadata": {},
   "outputs": [],
   "source": [
    "verts = [[1, 1], [4, 1], [4, 4], [1, 4]]\n",
    "# Call the box 'Axes1'\n",
    "layout.add_prim(\n",
    "    geo.Box(prims=[geo.Point(vert) for vert in verts]),\n",
    "    'Axes1'\n",
    ")\n",
    "\n",
    "plot_layout(layout, 'out/2Axes--2.png')"
   ]
  },
  {
   "cell_type": "markdown",
   "id": "9b0ad1b5-224e-49c6-9d27-3a316908ac45",
   "metadata": {},
   "source": [
    "### Create a box to represent the right axes"
   ]
  },
  {
   "cell_type": "code",
   "execution_count": null,
   "id": "57ae97d6-678e-43e8-980f-bb6252263a3b",
   "metadata": {},
   "outputs": [],
   "source": [
    "verts = [[2, 2], [5, 2], [5, 5], [2, 5]]\n",
    "# Call the box 'Axes2'\n",
    "layout.add_prim(\n",
    "    geo.Box(prims=[geo.Point(vert) for vert in verts]),\n",
    "    'Axes2'\n",
    ")\n",
    "\n",
    "plot_layout(layout, 'out/2Axes--3.png')"
   ]
  },
  {
   "cell_type": "markdown",
   "id": "09a4933f-b3ef-4120-827d-022955d7eaa0",
   "metadata": {},
   "source": [
    "### Constrain the figure size"
   ]
  },
  {
   "cell_type": "code",
   "execution_count": null,
   "id": "20be85c6-5167-4a2c-ba97-8bf0b7877bd8",
   "metadata": {},
   "outputs": [],
   "source": [
    "fig_width, fig_height = 6, 3\n",
    "\n",
    "# Constrain the bottom edge of the figure box (represented by\n",
    "# `PrimIdx('Figure', 0)`) to have length `fig_width`\n",
    "layout.add_constraint(\n",
    "    geo.LineLength(fig_width),\n",
    "    (PrimIdx('Figure', 0),)\n",
    ")\n",
    "\n",
    "# Constrain the right edge of the figure box (represented by\n",
    "# `PrimIdx('Figure', 1)`) to have length `fig_height`\n",
    "layout.add_constraint(\n",
    "    geo.LineLength(fig_height),\n",
    "    (PrimIdx('Figure', 1),)\n",
    ")\n",
    "\n",
    "# Constrain the bottom corner point of the figure box (`PrimIdx('Figure.Point0')`)\n",
    "# to be coincident with the origin (`PrimIdx('Origin')`)\n",
    "layout.add_constraint(\n",
    "    geo.CoincidentPoints(),\n",
    "    (PrimIdx('Figure.Point0'), PrimIdx('Origin'))\n",
    ")\n",
    "\n",
    "plot_layout(layout, 'out/2Axes--4.png')"
   ]
  },
  {
   "cell_type": "markdown",
   "id": "30e39edc-153c-43dd-b09b-457aacc264f3",
   "metadata": {},
   "source": [
    "### Constrain the left margin"
   ]
  },
  {
   "cell_type": "code",
   "execution_count": null,
   "id": "ec20f540-7688-4dfd-80f1-bc3d31955f20",
   "metadata": {},
   "outputs": [],
   "source": [
    "margin_left = 0.5\n",
    "layout.add_constraint(\n",
    "    geo.PointToPointDirectedDistance(margin_left, np.array([-1, 0])),\n",
    "    (PrimIdx('Axes1.Point0'), PrimIdx('Figure.Point0'))\n",
    ")\n",
    "\n",
    "plot_layout(layout, 'out/2Axes--5.png')\n",
    "\n",
    "## Constrain the right margin to `Axes2`\n",
    "\n",
    "margin_right = 0.5\n",
    "layout.add_constraint(\n",
    "    geo.PointToPointDirectedDistance(margin_right, np.array([1, 0])),\n",
    "    (PrimIdx('Axes2.Point1'), PrimIdx('Figure.Point2'))\n",
    ")\n",
    "\n",
    "plot_layout(layout, 'out/2Axes--6.png')"
   ]
  },
  {
   "cell_type": "markdown",
   "id": "50bf6441-c885-48ab-9d86-a5b04102aacc",
   "metadata": {},
   "source": [
    "### Constrain the width of 'Axes1' by setting the length of the bottom edge"
   ]
  },
  {
   "cell_type": "code",
   "execution_count": null,
   "id": "18bdf953-bcbd-4472-8fea-f7fb73062fa8",
   "metadata": {},
   "outputs": [],
   "source": [
    "width = 2\n",
    "layout.add_constraint(\n",
    "    geo.LineLength(width),\n",
    "    (PrimIdx('Axes1', 0),)\n",
    ")\n",
    "\n",
    "plot_layout(layout, 'out/2Axes--7.png')"
   ]
  },
  {
   "cell_type": "markdown",
   "id": "5f66a5f6-e0de-4264-9d5b-34f260ec9280",
   "metadata": {},
   "source": [
    "### Constrain the gap between the left and right axes"
   ]
  },
  {
   "cell_type": "code",
   "execution_count": null,
   "id": "f9d16ea8-7baf-4a42-9144-6f3c3c47116e",
   "metadata": {},
   "outputs": [],
   "source": [
    "margin_inter = 0.5\n",
    "layout.add_constraint(\n",
    "    geo.PointToPointDirectedDistance(margin_inter, np.array([1, 0])),\n",
    "    (PrimIdx('Axes1.Point1'), PrimIdx('Axes2.Point0'))\n",
    ")\n",
    "\n",
    "plot_layout(layout, 'out/2Axes--8.png')"
   ]
  },
  {
   "cell_type": "markdown",
   "id": "26d582d9-3c9a-48a1-b8e3-477823b6c045",
   "metadata": {},
   "source": [
    "### Constrain the top/bottom margins on the left axes ('Axes1')"
   ]
  },
  {
   "cell_type": "code",
   "execution_count": null,
   "id": "d1e968fd-d60d-4e77-92ba-ecc1ceef182e",
   "metadata": {},
   "outputs": [],
   "source": [
    "margin_top = 1.0\n",
    "margin_bottom = 0.5\n",
    "layout.add_constraint(\n",
    "    geo.PointToPointDirectedDistance(margin_bottom, np.array([0, -1])),\n",
    "    (PrimIdx('Axes1.Point0'), PrimIdx('Figure.Point0'))\n",
    ")\n",
    "layout.add_constraint(\n",
    "    geo.PointToPointDirectedDistance(margin_top, np.array([0, 1])),\n",
    "    (PrimIdx('Axes1.Point2'), PrimIdx('Figure.Point2'))\n",
    ")\n",
    "\n",
    "plot_layout(layout, 'out/2Axes--9.png')"
   ]
  },
  {
   "cell_type": "markdown",
   "id": "72cd3457-3c44-43ac-90d0-6476669b40a6",
   "metadata": {},
   "source": [
    "### Align the top/bottom edges of the left and right axes"
   ]
  },
  {
   "cell_type": "code",
   "execution_count": null,
   "id": "b051953d-a072-405a-813d-d33c0b308fff",
   "metadata": {},
   "outputs": [],
   "source": [
    "layout.add_constraint(\n",
    "    geo.Collinear(),\n",
    "    (PrimIdx('Axes1', 0), PrimIdx('Axes2', 0))\n",
    ")\n",
    "layout.add_constraint(\n",
    "    geo.Collinear(),\n",
    "    (PrimIdx('Axes1', 2), PrimIdx('Axes2', 2))\n",
    ")\n",
    "\n",
    "plot_layout(layout, 'out/2Axes--10.png')"
   ]
  },
  {
   "cell_type": "markdown",
   "id": "413a22cc-79d3-41f4-b061-9a6d7ad57671",
   "metadata": {},
   "source": [
    "## Solve for the constrained positions of the primitives"
   ]
  },
  {
   "cell_type": "code",
   "execution_count": null,
   "id": "6acbfb82-59d4-47b8-ad3e-9d8208f6ba84",
   "metadata": {},
   "outputs": [],
   "source": [
    "prims, info = solver.solve(\n",
    "    layout.prims, layout.constraints, layout.constraint_graph,\n",
    "    max_iter=40, rel_tol=1e-9\n",
    ")\n",
    "print('Figure:', prims['Figure'])\n",
    "print('Axes1:', prims['Axes1'])\n",
    "print('Axes2:', prims['Axes2'])"
   ]
  },
  {
   "cell_type": "markdown",
   "id": "2233394c-7cbe-4c52-9c40-33076595116f",
   "metadata": {},
   "source": [
    "## Create a figure and axes from the constrained primitives"
   ]
  },
  {
   "cell_type": "code",
   "execution_count": null,
   "id": "260d9463-4a82-4689-8c81-682c956ad5f9",
   "metadata": {},
   "outputs": [],
   "source": [
    "fig, axs = lplt.subplots(prims)\n",
    "\n",
    "x = np.linspace(0, 1)\n",
    "axs['Axes1'].plot(x, 4*x)\n",
    "axs['Axes2'].plot(x, x**2)\n",
    "\n",
    "fig.savefig('out/two_axes.png')"
   ]
  }
 ],
 "metadata": {
  "kernelspec": {
   "display_name": "Python 3 (ipykernel)",
   "language": "python",
   "name": "python3"
  },
  "language_info": {
   "codemirror_mode": {
    "name": "ipython",
    "version": 3
   },
   "file_extension": ".py",
   "mimetype": "text/x-python",
   "name": "python",
   "nbconvert_exporter": "python",
   "pygments_lexer": "ipython3",
   "version": "3.9.12"
  }
 },
 "nbformat": 4,
 "nbformat_minor": 5
}
