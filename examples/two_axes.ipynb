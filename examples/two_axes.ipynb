{
 "cells": [
  {
   "cell_type": "markdown",
   "metadata": {},
   "source": [
    "# Two axes figure example\n",
    "\n",
    "This example illustrates creating a two-axes layout.\n"
   ]
  },
  {
   "cell_type": "code",
   "execution_count": null,
   "metadata": {},
   "outputs": [],
   "source": [
    "import numpy as np\n",
    "\n",
    "from mpllayout import layout as lay\n",
    "from mpllayout import primitives as pr\n",
    "from mpllayout import constraints as co\n",
    "from mpllayout import solver\n",
    "from mpllayout import ui\n",
    "from mpllayout import matplotlibutils as lplt"
   ]
  },
  {
   "cell_type": "markdown",
   "metadata": {},
   "source": [
    "## Specify the layout"
   ]
  },
  {
   "cell_type": "code",
   "execution_count": null,
   "metadata": {},
   "outputs": [],
   "source": [
    "# Create the layout object\n",
    "layout = lay.Layout()\n",
    "\n",
    "## Create an origin point fixed at (0, 0)\n",
    "layout.add_prim(pr.Point(), \"Origin\")\n",
    "layout.add_constraint(co.Fix(), (\"Origin\",), (np.array([0, 0]),))\n",
    "\n",
    "# Create a box to represent the figure\n",
    "layout.add_prim(pr.Quadrilateral(), \"Figure\")\n",
    "layout.add_constraint(co.Box(), (\"Figure\",), ())\n",
    "\n",
    "# Create `Axes` objects to represent the left and right axes\n",
    "layout.add_prim(pr.Axes(), \"AxesLeft\")\n",
    "layout.add_prim(pr.Axes(), \"AxesRight\")\n",
    "layout.add_constraint(co.Box(), (\"AxesLeft/Frame\",), ())\n",
    "layout.add_constraint(co.Box(), (\"AxesRight/Frame\",), ())\n",
    "\n",
    "# Constrain the width and height of the figure\n",
    "fig_width, fig_height = 6, 3\n",
    "layout.add_constraint(co.Width(), (\"Figure\",), (fig_width,))\n",
    "layout.add_constraint(co.Height(), (\"Figure\",), (fig_height,))\n",
    "\n",
    "# Constrain the bottom-left corner of the figure to the origin\n",
    "layout.add_constraint(co.Coincident(), (\"Figure/Line0/Point0\", \"Origin\"), ())\n",
    "\n",
    "# Constrain the left/right margins to `AxesLeft` and `AxesRight`, respectively\n",
    "margin_left = 0.5\n",
    "margin_right = 0.5\n",
    "\n",
    "layout.add_constraint(\n",
    "    co.InnerMargin(side='left'), (\"AxesLeft/Frame\", \"Figure\",), (margin_left,)\n",
    ")\n",
    "layout.add_constraint(\n",
    "    co.InnerMargin(side='right'), (\"AxesRight/Frame\", \"Figure\"), (margin_right,)\n",
    ")\n",
    "\n",
    "# Constrain the gap between the left and right axes\n",
    "margin_inter = 0.5\n",
    "layout.add_constraint(\n",
    "    co.OuterMargin(side='right'), (\"AxesLeft/Frame\", \"AxesRight/Frame\"), (margin_inter,)\n",
    ")\n",
    "\n",
    "# Constrain the top/bottom margins on the left axes ('AxesLeft')\n",
    "# We can align the left/right axes to implicity set those margins\n",
    "margin_top = 1.0\n",
    "margin_bottom = 0.5\n",
    "layout.add_constraint(\n",
    "    co.InnerMargin(side=\"bottom\"), (\"AxesLeft/Frame\", \"Figure\"), (margin_bottom,)\n",
    ")\n",
    "layout.add_constraint(\n",
    "    co.InnerMargin(side=\"top\"), (\"AxesLeft/Frame\", \"Figure\"), (margin_top,)\n",
    ")\n",
    "\n",
    "# Align the left/right axes in a row\n",
    "layout.add_constraint(co.AlignRow(), (\"AxesLeft/Frame\", \"AxesRight/Frame\"), ())\n",
    "\n",
    "# Constrain the width of 'AxesLeft'\n",
    "# Note that the right axes width is already constrained through the margins and\n",
    "# known left axes width\n",
    "width = 2\n",
    "layout.add_constraint(co.Width(), (\"AxesLeft/Frame\",), (width,))"
   ]
  },
  {
   "cell_type": "markdown",
   "metadata": {},
   "source": [
    "## Solve the layout"
   ]
  },
  {
   "cell_type": "code",
   "execution_count": null,
   "metadata": {},
   "outputs": [],
   "source": [
    "# Solve and plot the constrained layout\n",
    "prims, info = solver.solve(layout, max_iter=40, rel_tol=1e-9)\n",
    "\n",
    "fig_layout, ax_layout = ui.figure_prims(prims)"
   ]
  },
  {
   "cell_type": "markdown",
   "metadata": {},
   "source": [
    "## Plot a figure using the layout"
   ]
  },
  {
   "cell_type": "code",
   "execution_count": null,
   "metadata": {},
   "outputs": [],
   "source": [
    "## Create a figure and axes from the constrained primitives\n",
    "fig, axs = lplt.subplots(prims)\n",
    "\n",
    "x = np.linspace(0, 1)\n",
    "axs[\"AxesLeft\"].plot(x, 4 * x)\n",
    "axs[\"AxesRight\"].plot(x, x**2)\n",
    "\n",
    "fig.savefig(\"two_axes.png\")\n"
   ]
  }
 ],
 "metadata": {
  "kernelspec": {
   "display_name": "numerics",
   "language": "python",
   "name": "python3"
  },
  "language_info": {
   "codemirror_mode": {
    "name": "ipython",
    "version": 3
   },
   "file_extension": ".py",
   "mimetype": "text/x-python",
   "name": "python",
   "nbconvert_exporter": "python",
   "pygments_lexer": "ipython3",
   "version": "3.12.7"
  }
 },
 "nbformat": 4,
 "nbformat_minor": 2
}
