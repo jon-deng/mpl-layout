{
 "cells": [
  {
   "cell_type": "markdown",
   "id": "302445fb",
   "metadata": {},
   "source": [
    "# Basic Example\n",
    "\n",
    "This notebook demonstrates the basic example shown in the readme"
   ]
  },
  {
   "cell_type": "code",
   "execution_count": null,
   "id": "ffeacd16",
   "metadata": {},
   "outputs": [],
   "source": [
    "# Ensure that the notebook shows whitespace in the plot\n",
    "%config InlineBackend.print_figure_kwargs = {'bbox_inches': None}"
   ]
  },
  {
   "cell_type": "code",
   "execution_count": null,
   "id": "e8888d26",
   "metadata": {},
   "outputs": [],
   "source": [
    "import numpy as np\n",
    "from matplotlib import pyplot as plt\n",
    "\n",
    "from mpllayout import layout as ly\n",
    "from mpllayout import primitives as pr\n",
    "from mpllayout import constraints as cr\n",
    "from mpllayout import matplotlibutils as mputils\n",
    "from mpllayout import solver\n",
    "\n",
    "# The layout object stores the geometry and constraints defining the layout\n",
    "layout = ly.Layout()\n",
    "\n",
    "# To add geometry, pass the: geometry primitive and a string key.\n",
    "# Naming the `Quadrilateral`, \"Figure\" will cause mpllayout to identify it as a figure\n",
    "layout.add_prim(pr.Quadrilateral(), \"Figure\")\n",
    "\n",
    "# To create a constraint, pass the: constraint, geometry to constrain, and\n",
    "# constraint arguments.\n",
    "# Constraint documentation describes what kind of geometry can be constrained and\n",
    "# any constraint arguments.\n",
    "layout.add_constraint(cr.Box(), (\"Figure\",), ())\n",
    "layout.add_constraint(cr.Width(), (\"Figure\",), (5.0,))\n",
    "layout.add_constraint(cr.Height(), (\"Figure\",), (4.0,))\n",
    "\n",
    "# To add an axes, pass the `Axes` primitive\n",
    "# The `Axes` is container of Quadrilaterals representing the drawing area (frame),\n",
    "# as well as, optionally, the x-axis and y-axis\n",
    "layout.add_prim(pr.Axes(), \"MyAxes\")\n",
    "\n",
    "# Constrain the axes drawing area to a box\n",
    "layout.add_constraint(cr.Box(), (\"MyAxes/Frame\",), ())\n",
    "# Set \"inner\" margins around the outside of the axes frame to the figure\n",
    "# The inner margin is the distance from a `Quadrilateral` inside another\n",
    "# `Quadrilateral`\n",
    "layout.add_constraint(cr.InnerMargin(side=\"bottom\"), (\"MyAxes/Frame\", \"Figure\"), (.5,))\n",
    "layout.add_constraint(cr.InnerMargin(side=\"top\"), (\"MyAxes/Frame\", \"Figure\"), (.5,))\n",
    "layout.add_constraint(cr.InnerMargin(side=\"left\"), (\"MyAxes/Frame\", \"Figure\"), (2.0,))\n",
    "layout.add_constraint(cr.InnerMargin(side=\"right\"), (\"MyAxes/Frame\", \"Figure\"), (0.5,))\n",
    "\n",
    "# Solve the constrained layout for geometry that satisfies the constraints\n",
    "solved_prims, *_ = solver.solve(layout)"
   ]
  },
  {
   "cell_type": "code",
   "execution_count": null,
   "id": "7166f72e",
   "metadata": {},
   "outputs": [],
   "source": [
    "# Create the figure and any axes from the solved geometry\n",
    "fig, axs = mputils.subplots(solved_prims)\n",
    "\n",
    "x = np.linspace(0, 2*np.pi)\n",
    "axs[\"MyAxes\"].plot(np.sin(x))\n",
    "axs[\"MyAxes\"].set_xlabel(\"x\")\n",
    "axs[\"MyAxes\"].set_ylabel(\"y\")\n",
    "\n",
    "fig.savefig(\"READMEExample.svg\")\n"
   ]
  },
  {
   "cell_type": "code",
   "execution_count": null,
   "id": "db55b8dd",
   "metadata": {},
   "outputs": [],
   "source": []
  }
 ],
 "metadata": {
  "kernelspec": {
   "display_name": "numerics",
   "language": "python",
   "name": "python3"
  },
  "language_info": {
   "codemirror_mode": {
    "name": "ipython",
    "version": 3
   },
   "file_extension": ".py",
   "mimetype": "text/x-python",
   "name": "python",
   "nbconvert_exporter": "python",
   "pygments_lexer": "ipython3",
   "version": "3.12.7"
  }
 },
 "nbformat": 4,
 "nbformat_minor": 5
}
