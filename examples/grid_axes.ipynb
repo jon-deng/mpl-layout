{
 "cells": [
  {
   "cell_type": "markdown",
   "metadata": {},
   "source": [
    "# Grid of fixed aspect axes example\n",
    "\n",
    "This example illustrates how to create a grid of axes with fixed-aspect ratios and margins around the figure.\n",
    "The width of the figure is fixed (for example, the width could be constrained by the column width in a journal) while the height automatically adjusts from the given constraints and axes width.\n",
    "This is difficult to accomplish directly in `matplotlib` without trial-and-error because the axes grid height isn't known until the figure is plotted."
   ]
  },
  {
   "cell_type": "code",
   "execution_count": null,
   "metadata": {},
   "outputs": [],
   "source": [
    "import itertools\n",
    "\n",
    "import numpy as np\n",
    "\n",
    "from mpllayout import solver\n",
    "from mpllayout import primitives as pr\n",
    "from mpllayout import constraints as co\n",
    "from mpllayout import layout as lay\n",
    "from mpllayout import matplotlibutils as lplt\n",
    "from mpllayout import ui"
   ]
  },
  {
   "cell_type": "markdown",
   "metadata": {},
   "source": [
    "## Specify the layout"
   ]
  },
  {
   "cell_type": "code",
   "execution_count": null,
   "metadata": {},
   "outputs": [],
   "source": [
    "layout = lay.Layout()\n",
    "\n",
    "## Create the figure box\n",
    "layout.add_prim(pr.Quadrilateral(), \"Figure\")\n",
    "layout.add_constraint(co.Box(), (\"Figure\",), ())\n",
    "\n",
    "## Constrain the figure width\n",
    "# Note that the figure height isn't directly constrainted because other\n",
    "# constraints (margins, the axes aspect ratio, etc.) implicity determine what\n",
    "# the figure height should be.\n",
    "fig_width = 6\n",
    "layout.add_constraint(co.Width(), (\"Figure\",), (fig_width,))\n",
    "\n",
    "# Fix the figure bottom left corner to (0, 0)\n",
    "\n",
    "layout.add_constraint(co.Fix(), (\"Figure/Line0/Point0\",), (np.array([0, 0]),))\n",
    "\n",
    "## Create the axes\n",
    "# You can change the number of rows and columns in the axes here.\n",
    "num_row, num_col = (3, 4)\n",
    "axes_shape = (num_row, num_col)\n",
    "num_axes = int(np.prod(axes_shape))\n",
    "\n",
    "axes_keys = [\n",
    "    f\"Axes[{row}, {col}]\"\n",
    "    for row, col in itertools.product(range(num_row), range(num_col))\n",
    "]\n",
    "for axes_key in axes_keys:\n",
    "    layout.add_prim(pr.Axes(), axes_key)\n",
    "    layout.add_constraint(co.Box(), (f\"{axes_key}/Frame\",), ())\n",
    "\n",
    "## Constrain the axes in a grid\n",
    "\n",
    "# Constrain them on a rectilinear grid\n",
    "# (the x/y grid lines are still free to move left-right and up-down)\n",
    "layout.add_constraint(\n",
    "    co.RectilinearGrid(shape=axes_shape), [f\"{axes_key}/Frame\" for axes_key in axes_keys], ()\n",
    ")\n",
    "\n",
    "## Constrain the inter-axes margin in the grid and set a square aspect ratio\n",
    "\n",
    "# First constrain the top-left corner axes aspect ratio to be square.\n",
    "# Note this assumes the [0, 0] element is the top-left corner but other conventions\n",
    "# are possible.\n",
    "layout.add_constraint(co.AspectRatio(), (\"Axes[0, 0]/Frame\",), (1,))\n",
    "\n",
    "# Because the axes lie on a grid, you only need to set widths/horizontal\n",
    "# margins for a single row or axes, then heights/vertical margins for a single\n",
    "# column of axes.\n",
    "margin_inner = 0.1\n",
    "for col in range(1, num_col):\n",
    "    # Set equal widths for row 0\n",
    "    layout.add_constraint(\n",
    "        co.RelativeLength(),\n",
    "        (f\"Axes[0, {col}]/Frame/Line0\", \"Axes[0, 0]/Frame/Line0\"),\n",
    "        (1,)\n",
    "    )\n",
    "    # Set interior horizontal margin\n",
    "    layout.add_constraint(\n",
    "        co.OuterMargin(side='right'), (f\"Axes[0, {col-1}]/Frame\", f\"Axes[0, {col}]/Frame\"), (margin_inner,)\n",
    "    )\n",
    "for row in range(1, num_row):\n",
    "    # Set equal heights for column 0\n",
    "    layout.add_constraint(\n",
    "        co.RelativeLength(),\n",
    "        (f\"Axes[{row}, 0]/Frame/Line1\", \"Axes[0, 0]/Frame/Line1\"),\n",
    "        (1,)\n",
    "    )\n",
    "    # Set interior vertical margin\n",
    "    layout.add_constraint(\n",
    "        co.OuterMargin(side='bottom'), (f\"Axes[{row-1}, 0]/Frame\", f\"Axes[{row}, 0]/Frame\"), (margin_inner,)\n",
    "    )\n",
    "\n",
    "# Note that the above can also be done in a single constraint with `co.Grid`\n",
    "\n",
    "## Constrain margins around the figure\n",
    "\n",
    "# Constrain top/bottom margins\n",
    "margin_top = 0.2\n",
    "margin_bottom = 0.2\n",
    "layout.add_constraint(\n",
    "    co.InnerMargin(side='top'), (\"Axes[0, 0]/Frame\", \"Figure\"), (margin_top,)\n",
    ")\n",
    "layout.add_constraint(\n",
    "    co.InnerMargin(side='bottom'), (f\"Axes[{num_row-1}, 0]/Frame\", \"Figure\"), (margin_bottom, )\n",
    ")\n",
    "\n",
    "# Constrain left/right margins\n",
    "margin_left = 0.2\n",
    "margin_right = 0.2\n",
    "layout.add_constraint(\n",
    "    co.InnerMargin(side='left'),\n",
    "    (\"Axes[0, 0]/Frame\", \"Figure\"), (margin_left,)\n",
    ")\n",
    "layout.add_constraint(\n",
    "    co.InnerMargin(side='right'),\n",
    "    (f\"Axes[0, {num_col-1}]/Frame\", \"Figure\"), (margin_right,)\n",
    ")"
   ]
  },
  {
   "cell_type": "markdown",
   "metadata": {},
   "source": [
    "## Solve the layout"
   ]
  },
  {
   "cell_type": "code",
   "execution_count": null,
   "metadata": {},
   "outputs": [],
   "source": [
    "## Solve the constraints and form the figure/axes layout\n",
    "prim_tree_n, info = solver.solve(layout)\n",
    "print(info)\n",
    "\n",
    "# This is the solved layout:\n",
    "_fig, _ = ui.figure_prims(prim_tree_n)\n",
    "_fig.savefig(\"grid_axes_layout.png\", dpi=300)"
   ]
  },
  {
   "cell_type": "markdown",
   "metadata": {},
   "source": [
    "## Plot a grid of images using the layout"
   ]
  },
  {
   "cell_type": "code",
   "execution_count": null,
   "metadata": {},
   "outputs": [],
   "source": [
    "# Use the layout to plot randomly generated 10x10 pixel images\n",
    "fig, axs = lplt.subplots(prim_tree_n)\n",
    "\n",
    "for key, ax in axs.items():\n",
    "    ax.set_axis_off()\n",
    "\n",
    "    ax.imshow(np.random.rand(10, 10))\n",
    "\n",
    "# x = np.linspace(0, 1)\n",
    "# axs['Axes1'].plot(x, x**2)\n",
    "\n",
    "fig.savefig(\"grid_axes.png\")\n",
    "# fig"
   ]
  }
 ],
 "metadata": {
  "kernelspec": {
   "display_name": "numerics",
   "language": "python",
   "name": "python3"
  },
  "language_info": {
   "codemirror_mode": {
    "name": "ipython",
    "version": 3
   },
   "file_extension": ".py",
   "mimetype": "text/x-python",
   "name": "python",
   "nbconvert_exporter": "python",
   "pygments_lexer": "ipython3",
   "version": "3.12.7"
  }
 },
 "nbformat": 4,
 "nbformat_minor": 2
}
