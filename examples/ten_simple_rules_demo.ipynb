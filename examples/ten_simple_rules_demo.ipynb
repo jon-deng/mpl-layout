{
 "cells": [
  {
   "cell_type": "markdown",
   "id": "869c5e8b-6a10-48dd-855c-9aa540ec082a",
   "metadata": {},
   "source": [
    "# MPLLayout Demo\n",
    "\n",
    "`mpllayout` models axes and other elements in figures as geometric primitives which can be constrained relative to each other. \n",
    "This gives a flexible way to precisely position figure elements.\n",
    "\n",
    "The following demo produces Figure 1  from the paper \"Ten Simple Rules for Better Figures\" (Rougier NP, Droettboom M, Bourne PE (2014) Ten Simple Rules for Better Figures. PLOS Computational Biology 10(9): e1003833. https://doi.org/10.1371/journal.pcbi.1003833).\n",
    "This figure is itself, a remake of one originally published in the [New York Times](https://archive.nytimes.com/www.nytimes.com/imagepages/2007/07/29/health/29cancer.graph.web.html?action=click&module=RelatedCoverage&pgtype=Article&region=Footer).\n",
    "\n",
    "The below two sections illustrate how to create the above figure with a `Grid` type constraint as well as more basic constraints."
   ]
  },
  {
   "cell_type": "code",
   "execution_count": null,
   "id": "97be0bae-5121-4a0f-bbcd-aab3a5bea0bd",
   "metadata": {},
   "outputs": [],
   "source": [
    "# Import the relevant packages\n",
    "\n",
    "import matplotlib.pyplot as plt\n",
    "import numpy as np\n",
    "\n",
    "from mpllayout.solver import solve\n",
    "from mpllayout.layout import Layout\n",
    "from mpllayout import geometry as geo\n",
    "from mpllayout.matplotlibutils import subplots\n",
    "from mpllayout import ui"
   ]
  },
  {
   "cell_type": "code",
   "execution_count": null,
   "id": "aac45bf7-dcf0-42ea-ab39-bcfce2ecef2d",
   "metadata": {},
   "outputs": [],
   "source": [
    "def refresh_ax(ax):\n",
    "    ax.clear()\n",
    "    ax.set_aspect(1)\n",
    "    ax.set_xlim(-1, 13)\n",
    "    ax.set_ylim(-1, 8)\n",
    "    return ax\n",
    "\n",
    "def plot_layout(ax, layout):\n",
    "    ax = refresh_ax(ax)\n",
    "\n",
    "    prims, solve_info = solve(layout.prim_tree, layout.constraints, layout.constraint_graph_int, max_iter=50)\n",
    "    ui.plot_prims(ax, prims)\n",
    "    return solve_info"
   ]
  },
  {
   "cell_type": "markdown",
   "id": "a1fc5432",
   "metadata": {},
   "source": [
    "### Create the layout with `Grid` constraints\n"
   ]
  },
  {
   "cell_type": "code",
   "execution_count": null,
   "id": "9b6467da",
   "metadata": {},
   "outputs": [],
   "source": [
    "# Use this figure to visualize the layout\n",
    "fig_layout, ax_layout = plt.subplots(1, 1, figsize=(4, 4))"
   ]
  },
  {
   "cell_type": "markdown",
   "id": "1027f20c",
   "metadata": {},
   "source": [
    "First, we create a `Layout` object which is used to track geometric primitives in the layout and any constraints between those primitives"
   ]
  },
  {
   "cell_type": "code",
   "execution_count": null,
   "id": "a171b105",
   "metadata": {},
   "outputs": [],
   "source": [
    "layout = Layout()"
   ]
  },
  {
   "cell_type": "markdown",
   "id": "7c231206",
   "metadata": {},
   "source": [
    "#### Add all the Figure and Axes elements"
   ]
  },
  {
   "cell_type": "code",
   "execution_count": null,
   "id": "08134366",
   "metadata": {},
   "outputs": [],
   "source": [
    "# This adds a box called 'Figure' to the layout\n",
    "# The box is initially a unit square with the lower left corner at (1, 1) but\n",
    "# we'll constrain the size and position later\n",
    "xmin, xmax = (1, 2)\n",
    "ymin, ymax = (1, 2)\n",
    "verts = [[xmin, ymin], [xmax, ymin], [xmax, ymax], [xmin, ymax]]\n",
    "layout.add_prim(geo.Quadrilateral(prims=[geo.Point(vert) for vert in verts]), 'Figure')\n",
    "layout.add_constraint(geo.Box(), ('Figure',))\n",
    "\n",
    "# This adds a box called 'AxesLeft' to the layout\n",
    "xmin, xmax = (1.5, 2)\n",
    "ymin, ymax = (1, 2.4)\n",
    "verts = [[xmin, ymin], [xmax, ymin], [xmax, ymax], [xmin, ymax]]\n",
    "layout.add_prim(geo.Quadrilateral(prims=[geo.Point(vert) for vert in verts]), 'AxesLeft')\n",
    "layout.add_constraint(geo.Box(), ('AxesLeft',))\n",
    "\n",
    "# This adds a box called 'AxesMid' to the layout\n",
    "# We'll use this box to place labels\n",
    "xmin, xmax = (1.2, 2)\n",
    "ymin, ymax = (2, 3)\n",
    "verts = [[xmin, ymin], [xmax, ymin], [xmax, ymax], [xmin, ymax]]\n",
    "layout.add_prim(geo.Quadrilateral(prims=[geo.Point(vert) for vert in verts]), 'AxesMid')\n",
    "layout.add_constraint(geo.Box(), ('AxesMid',))\n",
    "\n",
    "# This adds a box called 'AxesRight' to the layout\n",
    "xmin, xmax = (1.2, 2)\n",
    "ymin, ymax = (2, 3)\n",
    "verts = [[xmin, ymin], [xmax, ymin], [xmax, ymax], [xmin, ymax]]\n",
    "layout.add_prim(geo.Quadrilateral(prims=[geo.Point(vert) for vert in verts]), 'AxesRight')\n",
    "layout.add_constraint(geo.Box(), ('AxesRight',))\n"
   ]
  },
  {
   "cell_type": "markdown",
   "id": "d9958b24",
   "metadata": {},
   "source": [
    "#### Fix the Figure dimensions and position"
   ]
  },
  {
   "cell_type": "code",
   "execution_count": null,
   "id": "50f23f2e",
   "metadata": {},
   "outputs": [],
   "source": [
    "## Set the figure dimensions\n",
    "\n",
    "# Fix the bottom left point of 'Figure' to the origin\n",
    "layout.add_constraint(\n",
    "    geo.PointLocation(np.array([0, 0])), ('Figure/Line0/Point0',)\n",
    ")\n",
    "\n",
    "# Set the 'Figure' width and height\n",
    "fig_width, fig_height = (12, 7)\n",
    "\n",
    "layout.add_constraint(\n",
    "    geo.LineLength(fig_height), ('Figure/Line1',)\n",
    ")\n",
    "\n",
    "layout.add_constraint(\n",
    "    geo.LineLength(fig_width), ('Figure/Line0',)\n",
    ")"
   ]
  },
  {
   "cell_type": "code",
   "execution_count": null,
   "id": "6cf136c1",
   "metadata": {},
   "outputs": [],
   "source": [
    "solve_info = plot_layout(ax_layout, layout)\n",
    "print(solve_info)\n",
    "fig_layout"
   ]
  },
  {
   "cell_type": "code",
   "execution_count": null,
   "id": "9721f9a5",
   "metadata": {},
   "outputs": [],
   "source": [
    "##### Set top/bottom and left/right margins\n",
    "margin_top, margin_bottom = (0.5, 0.5)\n",
    "margin_left, margin_right = (0.5, 0.5)\n",
    "\n",
    "# Set the top/bottom margins\n",
    "layout.add_constraint(\n",
    "    geo.DirectedDistance(margin_top, direction=np.array([0, 1])),\n",
    "    ('AxesRight/Line1/Point1', 'Figure/Line1/Point1')\n",
    ")\n",
    "\n",
    "layout.add_constraint(\n",
    "    geo.DirectedDistance(margin_bottom, direction=np.array([0, -1])),\n",
    "    ('AxesRight/Line0/Point0', 'Figure/Line0/Point0')\n",
    ")\n",
    "\n",
    "# Set the left/right margins\n",
    "layout.add_constraint(\n",
    "    geo.DirectedDistance(margin_left, direction=np.array([-1, 0])),\n",
    "    ('AxesLeft/Line0/Point0', 'Figure/Line0/Point0')\n",
    ")\n",
    "\n",
    "layout.add_constraint(\n",
    "    geo.DirectedDistance(margin_right, direction=np.array([1, 0])),\n",
    "    ('AxesRight/Line0/Point1', 'Figure/Line0/Point1')\n",
    ")"
   ]
  },
  {
   "cell_type": "code",
   "execution_count": null,
   "id": "f6279117",
   "metadata": {},
   "outputs": [],
   "source": [
    "solve_info = plot_layout(ax_layout, layout)\n",
    "print(solve_info)\n",
    "fig_layout"
   ]
  },
  {
   "cell_type": "markdown",
   "id": "6f6acb52",
   "metadata": {},
   "source": [
    "#### Constrain the axes in a grid format"
   ]
  },
  {
   "cell_type": "code",
   "execution_count": null,
   "id": "beb5d806",
   "metadata": {},
   "outputs": [],
   "source": [
    "layout.add_constraint(\n",
    "    geo.Grid((1, 3), [0, 0], [], [0.25, 1], []),\n",
    "    ('AxesLeft', 'AxesMid', 'AxesRight')\n",
    ")"
   ]
  },
  {
   "cell_type": "code",
   "execution_count": null,
   "id": "453aa970",
   "metadata": {},
   "outputs": [],
   "source": [
    "solve_info = plot_layout(ax_layout, layout)\n",
    "print(solve_info)\n",
    "fig_layout"
   ]
  },
  {
   "cell_type": "markdown",
   "id": "1d15cbc8-758a-43b9-8b84-998d4fbe4a39",
   "metadata": {},
   "source": [
    "### Create the layout without `Grid` constraints"
   ]
  },
  {
   "cell_type": "code",
   "execution_count": null,
   "id": "644d14fe-d31c-4142-bcc8-3ee4a16f0b08",
   "metadata": {},
   "outputs": [],
   "source": [
    "fig_layout, ax_layout = plt.subplots(1, 1, figsize=(4, 4))"
   ]
  },
  {
   "cell_type": "markdown",
   "id": "64f92ccb-1982-4a34-9fcb-7c30ee994caf",
   "metadata": {},
   "source": [
    "First, we create a `Layout` object which is used to track geometric primitives in the layout and any constraints between those primitives"
   ]
  },
  {
   "cell_type": "code",
   "execution_count": null,
   "id": "c3718b5e-db79-4357-929c-5a61b40f96c8",
   "metadata": {},
   "outputs": [],
   "source": [
    "layout = Layout()"
   ]
  },
  {
   "cell_type": "markdown",
   "id": "67b0a430-3c81-4dec-afa1-cbc1cbb3d0a5",
   "metadata": {},
   "source": [
    "#### Add geometric primitives to represent figure elements"
   ]
  },
  {
   "cell_type": "markdown",
   "id": "7f69596a-5a0d-41e2-b19e-0d5c4e8754d3",
   "metadata": {},
   "source": [
    "Next we add three boxes representing the figure, and left and right axes"
   ]
  },
  {
   "cell_type": "code",
   "execution_count": null,
   "id": "2710110b-892a-42dc-9c1f-3294a4d1d8ca",
   "metadata": {},
   "outputs": [],
   "source": [
    "# This adds a box called 'Figure' to the layout\n",
    "# The box is initially a unit square with the lower left corner at (1, 1) but\n",
    "# we'll constrain the size and position later\n",
    "xmin, xmax = (1, 2)\n",
    "ymin, ymax = (1, 2)\n",
    "verts = [[xmin, ymin], [xmax, ymin], [xmax, ymax], [xmin, ymax]]\n",
    "layout.add_prim(geo.Quadrilateral(prims=[geo.Point(vert) for vert in verts]), 'Figure')\n",
    "layout.add_constraint(geo.Box(), ('Figure',))\n",
    "\n",
    "# This adds a box called 'AxesLeft' to the layout\n",
    "xmin, xmax = (1.5, 2)\n",
    "ymin, ymax = (1, 2.4)\n",
    "verts = [[xmin, ymin], [xmax, ymin], [xmax, ymax], [xmin, ymax]]\n",
    "layout.add_prim(geo.Quadrilateral(prims=[geo.Point(vert) for vert in verts]), 'AxesLeft')\n",
    "layout.add_constraint(geo.Box(), ('AxesLeft',))\n",
    "\n",
    "# This adds a box called 'AxesRight' to the layout\n",
    "xmin, xmax = (1.2, 2)\n",
    "ymin, ymax = (2, 3)\n",
    "verts = [[xmin, ymin], [xmax, ymin], [xmax, ymax], [xmin, ymax]]\n",
    "layout.add_prim(geo.Quadrilateral(prims=[geo.Point(vert) for vert in verts]), 'AxesRight')\n",
    "layout.add_constraint(geo.Box(), ('AxesRight',))\n",
    "\n",
    "# This adds a box called 'AxesMid' to the layout\n",
    "# We'll use this box to place labels\n",
    "xmin, xmax = (1.2, 2)\n",
    "ymin, ymax = (2, 3)\n",
    "verts = [[xmin, ymin], [xmax, ymin], [xmax, ymax], [xmin, ymax]]\n",
    "layout.add_prim(geo.Quadrilateral(prims=[geo.Point(vert) for vert in verts]), 'AxesMid')\n",
    "layout.add_constraint(geo.Box(), ('AxesMid',))"
   ]
  },
  {
   "cell_type": "code",
   "execution_count": null,
   "id": "1c9e197d-d16f-4c6e-a5b5-02527707664e",
   "metadata": {},
   "outputs": [],
   "source": [
    "plot_layout(ax_layout, layout)\n",
    "fig_layout"
   ]
  },
  {
   "cell_type": "markdown",
   "id": "b8f252a1-78d0-4231-a491-5eb672ba6e12",
   "metadata": {},
   "source": [
    "#### Add constraints between geometric primitives"
   ]
  },
  {
   "cell_type": "markdown",
   "id": "f87820a4-c4b9-4f2e-8cd0-bbb20ec8b1fc",
   "metadata": {},
   "source": [
    "##### Fix the figure dimensions and position"
   ]
  },
  {
   "cell_type": "code",
   "execution_count": null,
   "id": "64a402da-73ed-43c8-b25c-886fd1e6a64a",
   "metadata": {},
   "outputs": [],
   "source": [
    "# Fix the bottom left point of 'Figure' to the origin\n",
    "layout.add_constraint(\n",
    "    geo.PointLocation(np.array([0, 0])),\n",
    "    ('Figure/Line0/Point0',)\n",
    ")\n",
    "\n",
    "# Set the 'Figure' width and height\n",
    "fig_width, fig_height = (12, 7)\n",
    "\n",
    "layout.add_constraint(\n",
    "    geo.LineLength(fig_height),\n",
    "    ('Figure/Line1',)\n",
    ")\n",
    "\n",
    "layout.add_constraint(\n",
    "    geo.LineLength(fig_width),\n",
    "    ('Figure/Line0',)\n",
    ")\n"
   ]
  },
  {
   "cell_type": "code",
   "execution_count": null,
   "id": "ffe8c46b-b695-41d3-af82-f981c87799f1",
   "metadata": {},
   "outputs": [],
   "source": [
    "plot_layout(ax_layout, layout)\n",
    "fig_layout"
   ]
  },
  {
   "cell_type": "markdown",
   "id": "2ad6ba1b-5299-4b4a-935a-5f5e9d1ef4c9",
   "metadata": {},
   "source": [
    "##### Set top/bottom and left/right margins"
   ]
  },
  {
   "cell_type": "code",
   "execution_count": null,
   "id": "f5e623a1-479a-47ea-a5a1-383a3db3b27f",
   "metadata": {},
   "outputs": [],
   "source": [
    "margin_top, margin_bottom = (0.5, 0.5)\n",
    "margin_left, margin_right = (0.5, 0.5)\n",
    "\n",
    "# Set the top/bottom margins\n",
    "layout.add_constraint(\n",
    "    geo.DirectedDistance(margin_top, direction=np.array([0, 1])),\n",
    "    ('AxesRight/Line1/Point1', 'Figure/Line1/Point1')\n",
    ")\n",
    "\n",
    "layout.add_constraint(\n",
    "    geo.DirectedDistance(margin_bottom, direction=np.array([0, -1])),\n",
    "    ('AxesRight/Line0/Point0', 'Figure/Line0/Point0')\n",
    ")\n",
    "\n",
    "# Set the left/right margins\n",
    "layout.add_constraint(\n",
    "    geo.DirectedDistance(margin_right, direction=np.array([1, 0])),\n",
    "    ('AxesRight/Line1/Point1', 'Figure/Line1/Point1')\n",
    ")\n",
    "\n",
    "layout.add_constraint(\n",
    "    geo.DirectedDistance(margin_left, direction=np.array([-1, 0])),\n",
    "    ('AxesLeft/Line0/Point0', 'Figure/Line0/Point0')\n",
    ")"
   ]
  },
  {
   "cell_type": "code",
   "execution_count": null,
   "id": "b61df775-9e6f-4e39-9b80-8e3b6ebc8404",
   "metadata": {},
   "outputs": [],
   "source": [
    "plot_layout(ax_layout, layout)\n",
    "fig_layout"
   ]
  },
  {
   "cell_type": "markdown",
   "id": "a2ecd47c-73a6-4ef5-b3db-7aacc0451709",
   "metadata": {},
   "source": [
    "##### Set the margin between left/right axes\n"
   ]
  },
  {
   "cell_type": "code",
   "execution_count": null,
   "id": "dfa397a2-627a-4f15-8a0d-27cf6a67ee06",
   "metadata": {},
   "outputs": [],
   "source": [
    "margin_inter = 2\n",
    "layout.add_constraint(\n",
    "    geo.DirectedDistance(margin_inter, direction=np.array([1, 0])),\n",
    "    ('AxesLeft/Line0/Point1', 'AxesRight/Line0/Point0')\n",
    ")"
   ]
  },
  {
   "cell_type": "code",
   "execution_count": null,
   "id": "91ebfe64-e7bc-4a7b-81ff-7652139a3f67",
   "metadata": {},
   "outputs": [],
   "source": [
    "plot_layout(ax_layout, layout)\n",
    "fig_layout"
   ]
  },
  {
   "cell_type": "markdown",
   "id": "bb67975e-fb11-408f-946a-5deb8b840ce0",
   "metadata": {},
   "source": [
    "##### Align `'AxesLeft'`, `'AxesRight'`, and `'AxesMid'`\n",
    "\n",
    "The code `geo.CollinearLines()` represents a collinear constraint which applies to a set of primitives.\n",
    "The code `(PrimIdx('AxesLeft', 0), PrimIdx('AxesRight', 1))` indicates the primitives the constraint applies to.\n",
    "\n",
    "The index object `PrimIdx('AxesLeft', 0)` represents 0th line of the `Quadrilateral` `'AxesLeft'`\n",
    "This notation is used because the `Quadrilateral` primitive consists of 4 lines which can be be indexed"
   ]
  },
  {
   "cell_type": "code",
   "execution_count": null,
   "id": "7aed60d7-a88d-4c23-badf-19335de07665",
   "metadata": {},
   "outputs": [],
   "source": [
    "# Align the bottoms of 'AxesLeft', 'AxesRight', and 'AxesMid'\n",
    "layout.add_constraint(\n",
    "    geo.CollinearLines(),\n",
    "    ('AxesLeft/Line0', 'AxesRight/Line0')\n",
    ")"
   ]
  },
  {
   "cell_type": "code",
   "execution_count": null,
   "id": "c1ecb174-fabe-45d1-8172-294c0e7387fe",
   "metadata": {},
   "outputs": [],
   "source": [
    "# Similarly we make the tops of 'AxesLeft', 'AxesRight', and 'AxesMid' line up\n",
    "layout.add_constraint(\n",
    "    geo.CollinearLines(),\n",
    "    ('AxesLeft/Line2', 'AxesRight/Line2')\n",
    ")"
   ]
  },
  {
   "cell_type": "code",
   "execution_count": null,
   "id": "e36ebdad-3441-4c7c-9051-e82c89d112a1",
   "metadata": {},
   "outputs": [],
   "source": [
    "# Make sure 'AxesMid' occupies the space between 'AxesLeft' and 'AxesRight'\n",
    "\n",
    "# This pins the bottom right corner of 'AxesMid' to the bottom left corner of 'AxesLeft'\n",
    "layout.add_constraint(\n",
    "    geo.CoincidentPoints(),\n",
    "    ('AxesLeft/Line0/Point1', 'AxesMid/Line0/Point0')\n",
    ")\n",
    "\n",
    "# This pins the top left corner of 'AxesMid' to the top right corner of 'AxesRight'\n",
    "layout.add_constraint(\n",
    "    geo.CoincidentPoints(),\n",
    "    ('AxesMid/Line1/Point1', 'AxesRight/Line3/Point0')\n",
    ")"
   ]
  },
  {
   "cell_type": "code",
   "execution_count": null,
   "id": "a73c8417-356b-42ea-852f-f4d760439b02",
   "metadata": {},
   "outputs": [],
   "source": [
    "plot_layout(ax_layout, layout)\n",
    "fig_layout"
   ]
  },
  {
   "cell_type": "markdown",
   "id": "df4a5d10-efe3-4c78-8d0d-72057e630e0c",
   "metadata": {},
   "source": [
    "##### Set relative widths of `'AxesLeft'` and `'AxesRight'`"
   ]
  },
  {
   "cell_type": "code",
   "execution_count": null,
   "id": "022e66fa-dccc-4505-b695-400ce8563ae4",
   "metadata": {},
   "outputs": [],
   "source": [
    "# This makes the top of 'AxesLeft' 100% the length of the top of 'AxesRight'\n",
    "layout.add_constraint(\n",
    "    geo.RelativeLineLength(1.0),\n",
    "    ('AxesLeft/Line0', 'AxesRight/Line0')\n",
    ")"
   ]
  },
  {
   "cell_type": "code",
   "execution_count": null,
   "id": "d6d4f4fd-503e-4a69-a38b-6aac0e4a2910",
   "metadata": {},
   "outputs": [],
   "source": [
    "plot_layout(ax_layout, layout)\n",
    "fig_layout"
   ]
  },
  {
   "cell_type": "markdown",
   "id": "0866e7b2-c69c-43d1-9bc6-65de4f26ff9a",
   "metadata": {},
   "source": [
    "## Create the Figure from the layout"
   ]
  },
  {
   "cell_type": "code",
   "execution_count": null,
   "id": "6a879951-73f3-4d43-998a-564647a94f44",
   "metadata": {},
   "outputs": [],
   "source": [
    "prims, solve_info = solve(layout.prim_tree, layout.constraints, layout.constraint_graph_int)"
   ]
  },
  {
   "cell_type": "code",
   "execution_count": null,
   "id": "5a3fc270-4aac-4abe-943d-6c90e9c7f88e",
   "metadata": {},
   "outputs": [],
   "source": [
    "# The data below is approximated from a New York Times article ()\n",
    "# and is adapted from the figure-1.py file available at (https://github.com/rougier/ten-rules)\n",
    "\n",
    "diseases   = [\"Kidney Cancer\", \"Bladder Cancer\", \"Esophageal Cancer\",\n",
    "              \"Ovarian Cancer\", \"Liver Cancer\", \"Non-Hodgkin's\\nlymphoma\",\n",
    "              \"Leukemia\", \"Prostate Cancer\", \"Pancreatic Cancer\",\n",
    "              \"Breast Cancer\", \"Colorectal Cancer\", \"Lung Cancer\"]\n",
    "men_deaths = [10000, 12000, 13000, 0, 14000, 12000,\n",
    "              16000, 25000, 20000, 500, 25000, 80000]\n",
    "men_cases = [30000, 50000, 13000, 0, 16000, 30000,\n",
    "             25000, 220000, 22000, 600, 55000, 115000]\n",
    "women_deaths = [6000, 5500, 5000, 20000, 9000, 12000,\n",
    "                13000, 0, 19000, 40000, 30000, 70000]\n",
    "women_cases = [20000, 18000, 5000, 25000, 9000, 29000,\n",
    "               24000, 0, 21000, 160000, 55000, 97000]\n",
    "\n",
    "y_diseases = np.arange(len(diseases))"
   ]
  },
  {
   "cell_type": "code",
   "execution_count": null,
   "id": "e1dd6749-4b65-4617-9152-e56c28f16b04",
   "metadata": {},
   "outputs": [],
   "source": [
    "def format_axes(ax):\n",
    "    \"\"\"\n",
    "    Apply the Axes formatting used in \"Ten Simple Rules\"\n",
    "    \"\"\"\n",
    "    if not ax.xaxis.get_inverted():\n",
    "        origin_side = 'left'\n",
    "        far_side = 'right'\n",
    "    else:\n",
    "        origin_side = 'right'\n",
    "        far_side = 'left'\n",
    "\n",
    "    ax.spines[far_side].set_color('none')\n",
    "    ax.spines[origin_side].set_zorder(10)\n",
    "    ax.spines['bottom'].set_color('none')\n",
    "\n",
    "    ax.xaxis.set_ticks_position('top')\n",
    "\n",
    "    ax.yaxis.set_ticks_position(origin_side)\n",
    "    ax.yaxis.set_ticks(y_diseases, labels=['']*len(y_diseases))\n",
    "\n",
    "    ax.spines['top'].set_position(('data',len(diseases)+.25))\n",
    "    ax.spines['top'].set_color('w')"
   ]
  },
  {
   "cell_type": "code",
   "execution_count": null,
   "id": "4da120e8-d200-4ad1-9714-49adf76afa1e",
   "metadata": {},
   "outputs": [],
   "source": [
    "fig, axs = subplots(prims)\n",
    "\n",
    "for ax in axs.values():\n",
    "    ax.set_xlim(0, 200000)\n",
    "\n",
    "# Plot the men/womens data\n",
    "axs['AxesLeft'].barh(y_diseases, women_cases, height=0.8, fc='red', alpha=0.1)\n",
    "axs['AxesLeft'].barh(y_diseases, women_deaths, height=0.55, fc='red', alpha=0.5)\n",
    "axs['AxesLeft'].xaxis.set_inverted(True)\n",
    "\n",
    "axs['AxesRight'].barh(y_diseases, men_cases, height=0.8, fc='blue', alpha=0.1)\n",
    "axs['AxesRight'].barh(y_diseases, men_deaths, height=0.55, fc='blue', alpha=0.5)\n",
    "\n",
    "axs_labels = ['AxesLeft', 'AxesRight']\n",
    "axs_categories = ['women', 'men']\n",
    "for axs_label, category in zip(axs_labels, axs_categories):\n",
    "    ax = axs[axs_label]\n",
    "    format_axes(ax)\n",
    "    ax.set_xticks(\n",
    "        [0, 50000, 100000, 150000, 200000],\n",
    "        [category.upper(), '50,000', '100,000', '150,000', '200,000']\n",
    "    )\n",
    "    ax.grid(which='major', axis='x', color='white')\n",
    "    ax.get_xticklabels()[0].set_weight('bold')\n",
    "\n",
    "# Add ylabels to 'AxesMid'\n",
    "axs['AxesMid'].set_axis_off()\n",
    "axs['AxesMid'].set_ylim(axs['AxesLeft'].get_ylim())\n",
    "axs['AxesMid'].set_xlim(-1, 1)\n",
    "\n",
    "for y, disease_name in zip(y_diseases, diseases):\n",
    "    axs['AxesMid'].text(0, y, disease_name, ha='center', va='center')\n",
    "\n",
    "# Add the \"NEW CASES\" and \"DEATHS\" annotations\n",
    "# Devil hides in the details...\n",
    "arrowprops = {\n",
    "    'arrowstyle': '-',\n",
    "    'connectionstyle': 'angle,angleA=0,angleB=90,rad=0'\n",
    "}\n",
    "\n",
    "x = women_cases[-1]\n",
    "y = y_diseases[-1]\n",
    "axs['AxesLeft'].annotate(\n",
    "    \"NEW CASES\", xy=(.9*x, y),  xycoords='data', ha='right', fontsize= 10,\n",
    "    xytext=(-40, -3), textcoords='offset points', arrowprops=arrowprops\n",
    ")\n",
    "\n",
    "x = women_deaths[-1]\n",
    "axs['AxesLeft'].annotate(\n",
    "    \"DEATHS\", xy=(.85*x, y),  xycoords='data', ha='right', fontsize=10,\n",
    "    xytext=(-50, -25), textcoords='offset points', arrowprops=arrowprops\n",
    ")\n",
    "\n",
    "x = men_cases[-1]\n",
    "axs['AxesRight'].annotate(\n",
    "    \"NEW CASES\", xy=(.9*x, y),  xycoords='data', ha='left', fontsize=10,\n",
    "    xytext=(+40, -3), textcoords='offset points', arrowprops=arrowprops\n",
    ")\n",
    "\n",
    "x = men_deaths[-1]\n",
    "axs['AxesRight'].annotate(\n",
    "    \"DEATHS\", xy=(.9*x, y),  xycoords='data', ha='left', fontsize=10,\n",
    "    xytext=(+50, -25), textcoords='offset points', arrowprops=arrowprops\n",
    ")\n",
    "\n",
    "# Add the caption text\n",
    "axs['AxesLeft'].text(\n",
    "    165000, 8.2,\n",
    "    \"Leading Causes\\nOf Cancer Deaths\",\n",
    "    fontsize=18, va=\"top\"\n",
    ")\n",
    "axs['AxesLeft'].text(\n",
    "    165000, 7,\n",
    "    \"In 2007, there were more\\n\"\n",
    "    \"than 1.4 million new cases\\n\"\n",
    "    \"of cancer in the United States.\",\n",
    "    va=\"top\", fontsize=10\n",
    ")\n",
    "\n",
    "fig.savefig('figure-1.svg')\n",
    "fig"
   ]
  },
  {
   "cell_type": "code",
   "execution_count": null,
   "id": "952863e9-77eb-41b4-8156-db78ad0674a4",
   "metadata": {},
   "outputs": [],
   "source": []
  }
 ],
 "metadata": {
  "kernelspec": {
   "display_name": "Python 3 (ipykernel)",
   "language": "python",
   "name": "python3"
  },
  "language_info": {
   "codemirror_mode": {
    "name": "ipython",
    "version": 3
   },
   "file_extension": ".py",
   "mimetype": "text/x-python",
   "name": "python",
   "nbconvert_exporter": "python",
   "pygments_lexer": "ipython3",
   "version": "3.12.2"
  }
 },
 "nbformat": 4,
 "nbformat_minor": 5
}
