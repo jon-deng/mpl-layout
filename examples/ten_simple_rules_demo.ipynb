{
 "cells": [
  {
   "cell_type": "markdown",
   "id": "869c5e8b-6a10-48dd-855c-9aa540ec082a",
   "metadata": {},
   "source": [
    "# MPLLayout Demo\n",
    "\n",
    "`mpllayout` models axes and other elements in figures as geometric primitives which can be constrained relative to each other. \n",
    "This gives a flexible way to precisely position figure elements.\n",
    "\n",
    "The following demo produces Figure 1  from the paper \"Ten Simple Rules for Better Figures\" (Rougier NP, Droettboom M, Bourne PE (2014) Ten Simple Rules for Better Figures. PLOS Computational Biology 10(9): e1003833. https://doi.org/10.1371/journal.pcbi.1003833).\n",
    "This figure is itself, a remake of one originally published in the [New York Times](https://archive.nytimes.com/www.nytimes.com/imagepages/2007/07/29/health/29cancer.graph.web.html?action=click&module=RelatedCoverage&pgtype=Article&region=Footer).\n",
    "\n",
    "The below two sections illustrate how to create the above figure with a `Grid` type constraint as well as more basic constraints."
   ]
  },
  {
   "cell_type": "code",
   "execution_count": null,
   "id": "97be0bae-5121-4a0f-bbcd-aab3a5bea0bd",
   "metadata": {},
   "outputs": [],
   "source": [
    "# Import the relevant packages\n",
    "\n",
    "import matplotlib.pyplot as plt\n",
    "import numpy as np\n",
    "\n",
    "from mpllayout.solver import solve\n",
    "from mpllayout.layout import Layout, update_layout_constraints\n",
    "from mpllayout import primitives as pr\n",
    "from mpllayout import constraints as co\n",
    "from mpllayout.matplotlibutils import subplots, update_subplots, find_axis_position\n",
    "from mpllayout import ui"
   ]
  },
  {
   "cell_type": "code",
   "execution_count": null,
   "id": "5c3a8af3",
   "metadata": {},
   "outputs": [],
   "source": [
    "def figure_layout(layout):\n",
    "    \"\"\"\n",
    "    Return a figure of the layout\n",
    "    \"\"\"\n",
    "    prims_n, solve_info = solve(layout)\n",
    "    return ui.figure_prims(prims_n)"
   ]
  },
  {
   "cell_type": "markdown",
   "id": "a1fc5432",
   "metadata": {},
   "source": [
    "## Create the `layout`\n",
    "\n",
    "The `layout` is a collection of:\n",
    "- geometric primitives to represent figure elements\n",
    "- and constraints which position the figure elements\n"
   ]
  },
  {
   "cell_type": "code",
   "execution_count": null,
   "id": "a171b105",
   "metadata": {},
   "outputs": [],
   "source": [
    "layout = Layout()"
   ]
  },
  {
   "cell_type": "markdown",
   "id": "7c231206",
   "metadata": {},
   "source": [
    "### Add geometric primitives\n",
    "\n",
    "Represent the `mpl.Figure` by a `Quadrilateral` and `mpl.Axes` by an `Axes` primitive.\n",
    "The `Axes` primitive contains a `Quadrilateral` to represent the frame, and optionally, a `Quadrilateral` and `Point` to represent the x axis and y axis."
   ]
  },
  {
   "cell_type": "code",
   "execution_count": null,
   "id": "08134366",
   "metadata": {},
   "outputs": [],
   "source": [
    "# First a box called \"Figure\" to the layout\n",
    "layout.add_prim(pr.Quadrilateral(), \"Figure\")\n",
    "\n",
    "# Then add \"axes\" primitives to represent a left, middle, and right axes\n",
    "# Axes can contain `Quadrilaterals` and `Point` primitives to represent the\n",
    "# axes frame, x/y axis, and axis labels\n",
    "layout.add_prim(pr.Axes(xaxis=True, yaxis=True), \"AxesLeft\")\n",
    "layout.add_prim(pr.Axes(), \"AxesMid\")\n",
    "layout.add_prim(pr.Axes(xaxis=True, yaxis=True), \"AxesRight\")"
   ]
  },
  {
   "cell_type": "markdown",
   "id": "cc84cd74",
   "metadata": {},
   "source": [
    "### Add geometric constraints"
   ]
  },
  {
   "cell_type": "markdown",
   "id": "3de3df32",
   "metadata": {},
   "source": [
    "#### Make all `Quadrilateral`s rectangular\n",
    "\n",
    "MPLlayout doesn't constrain quadrilaterals to be rectangular like the figure or axes frame in matplotlib so they must be constrained."
   ]
  },
  {
   "cell_type": "code",
   "execution_count": null,
   "id": "53d68f61",
   "metadata": {},
   "outputs": [],
   "source": [
    "# `co.Box` forces quadrilateral sides to be vertical and tops/bottoms to be horizontal\n",
    "# It has no parameters so that last argument is any empty tuple\n",
    "layout.add_constraint(co.Box(), (\"Figure\",), ())\n",
    "\n",
    "# \"AxesMid\" only has a frame (no x/y axis)\n",
    "layout.add_constraint(co.Box(), (\"AxesMid/Frame\",), ())\n",
    "\n",
    "# Here we constrain all child quads of the left and right axes to be boxes\n",
    "for axes_key in [\"AxesLeft\", \"AxesRight\"]:\n",
    "    for quad_key in [\"Frame\", \"XAxis\", \"YAxis\"]:\n",
    "        layout.add_constraint(co.Box(), (f\"{axes_key}/{quad_key}\",), ())"
   ]
  },
  {
   "cell_type": "code",
   "execution_count": null,
   "id": "5262250b",
   "metadata": {},
   "outputs": [],
   "source": [
    "# This plots the created geometry\n",
    "# Note that by default all the quads are unit squares\n",
    "figure_layout(layout)"
   ]
  },
  {
   "cell_type": "markdown",
   "id": "6e2224b7",
   "metadata": {},
   "source": [
    "#### Fix the Figure dimensions and position\n",
    "\n",
    "Set the figure width/height and fix the bottom left point to the origin"
   ]
  },
  {
   "cell_type": "code",
   "execution_count": null,
   "id": "3e9b9643",
   "metadata": {},
   "outputs": [],
   "source": [
    "## Set the figure dimensions\n",
    "\n",
    "# Fix the bottom left point of 'Figure' to the origin\n",
    "layout.add_constraint(co.Fix(), (\"Figure/Line0/Point0\",), {\"location\": np.array([0, 0])})\n",
    "\n",
    "# Set the 'Figure' width and height\n",
    "fig_width, fig_height = (12, 7)\n",
    "layout.add_constraint(co.Length(), (\"Figure/Line1\",), (fig_height,))\n",
    "layout.add_constraint(co.Length(), (\"Figure/Line0\",), (fig_width,))"
   ]
  },
  {
   "cell_type": "code",
   "execution_count": null,
   "id": "9d25658e",
   "metadata": {},
   "outputs": [],
   "source": [
    "# Note the figure quadrilateral is 12\" by 7\"\n",
    "# The remaining axes are unit squares since they haven't been constrained yet\n",
    "fig, ax = figure_layout(layout)"
   ]
  },
  {
   "cell_type": "markdown",
   "id": "56df289b",
   "metadata": {},
   "source": [
    "#### Constrain the `Axes` to a 1 by 3 rectilinear grid\n",
    "\n",
    "We can force the left, middle, and right axes to align on 1 by 3 grid and set their relative widths.\n",
    "\n"
   ]
  },
  {
   "cell_type": "code",
   "execution_count": null,
   "id": "5e1eab5c",
   "metadata": {},
   "outputs": [],
   "source": [
    "# Align the axes on a 1x3 rectilinear grid\n",
    "shape = (1, 3)\n",
    "layout.add_constraint(\n",
    "    co.RectilinearGrid(shape),\n",
    "    (\"AxesLeft/Frame\", \"AxesMid/Frame\", \"AxesRight/Frame\"),\n",
    "    ()\n",
    ")"
   ]
  },
  {
   "cell_type": "code",
   "execution_count": null,
   "id": "6d1b513b",
   "metadata": {},
   "outputs": [],
   "source": [
    "# Set zeros margins between left/right axes and the middle axes\n",
    "layout.add_constraint(co.OuterMargin(side='left'), (\"AxesMid/Frame\", \"AxesLeft/Frame\"), (0,))\n",
    "layout.add_constraint(co.OuterMargin(side='right'), (\"AxesMid/Frame\", \"AxesRight/Frame\"), (0,))\n",
    "\n",
    "# Make the left/right axes the same width and the central axes 0.5 that width\n",
    "layout.add_constraint(\n",
    "    co.RelativeLength(), (\"AxesRight/Frame/Line0\", \"AxesLeft/Frame/Line0\"), (1.0,)\n",
    ")\n",
    "layout.add_constraint(\n",
    "    co.RelativeLength(), (\"AxesMid/Frame/Line0\", \"AxesLeft/Frame/Line0\"), (0.5,)\n",
    ")"
   ]
  },
  {
   "cell_type": "code",
   "execution_count": null,
   "id": "b007f45b",
   "metadata": {},
   "outputs": [],
   "source": [
    "# Note the 3 axes are now aligned\n",
    "# It's difficult to see because the left and right axes also have axises that are shown\n",
    "fig, ax = figure_layout(layout)"
   ]
  },
  {
   "cell_type": "markdown",
   "id": "129f4a98",
   "metadata": {},
   "source": [
    "#### Position the x-axis and y-axis for left and right axes"
   ]
  },
  {
   "cell_type": "code",
   "execution_count": null,
   "id": "b4730103",
   "metadata": {},
   "outputs": [],
   "source": [
    "# These constraints fix the x/y axis to one side of the axes\n",
    "# When creating the figure from a layout, these axis positions will be inherited\n",
    "layout.add_constraint(co.PositionXAxis(top=True, bottom=False), (\"AxesLeft\", ), ())\n",
    "layout.add_constraint(co.PositionYAxis(left=False, right=True), (\"AxesLeft\", ), ())\n",
    "\n",
    "layout.add_constraint(co.PositionXAxis(top=True, bottom=False), (\"AxesRight\", ), ())\n",
    "layout.add_constraint(co.PositionYAxis(left=True, right=False), (\"AxesRight\", ), ())\n"
   ]
  },
  {
   "cell_type": "code",
   "execution_count": null,
   "id": "87f32652",
   "metadata": {},
   "outputs": [],
   "source": [
    "# These constraints set the variable width of the y-axis and variable height of the x-axis\n",
    "# The axis dimensions are variable since they depend on the size of any tick labels\n",
    "# Axis dimensions can be updated using `update_layout_constraints` after\n",
    "# axis text has been generated\n",
    "# Note that axis labels aren't included in the size of the axis!\n",
    "layout.add_constraint(\n",
    "    co.XAxisHeight(), (f\"AxesLeft/XAxis\",), (None,)\n",
    ")\n",
    "layout.add_constraint(\n",
    "    co.YAxisWidth(), (f\"AxesLeft/YAxis\",), (None,)\n",
    ")\n",
    "layout.add_constraint(\n",
    "    co.XAxisHeight(), (f\"AxesRight/XAxis\",), (None,)\n",
    ")\n",
    "layout.add_constraint(\n",
    "    co.YAxisWidth(), (f\"AxesRight/YAxis\",), (None,)\n",
    ")"
   ]
  },
  {
   "cell_type": "code",
   "execution_count": null,
   "id": "cfd1ded6",
   "metadata": {},
   "outputs": [],
   "source": [
    "# Note the x axis is now stuck to the top of each axes\n",
    "figure_layout(layout)"
   ]
  },
  {
   "cell_type": "markdown",
   "id": "32a9a09b",
   "metadata": {},
   "source": [
    "#### Set Margins\n",
    "\n",
    "Note that earlier we never set the absolute width of the axes; to ensure nice whitespace we can specify margins to indirectly set the axes dimensions."
   ]
  },
  {
   "cell_type": "code",
   "execution_count": null,
   "id": "9721f9a5",
   "metadata": {},
   "outputs": [],
   "source": [
    "# Set the top/bottom margins\n",
    "# The top margin will be set above the x-axis bounding box which ensure the text won't cut out of the figure\n",
    "margin_top, margin_bottom = (0.5, 0.5)\n",
    "\n",
    "# The `InnerMargin` constraint sets the gap between an\n",
    "# inner quad (\"AxesRight/XAxis\") and an outer quad (\"Figure\")\n",
    "layout.add_constraint(\n",
    "    co.InnerMargin(side=\"top\"), (\"AxesRight/XAxis\", \"Figure\"), (margin_top,)\n",
    ")\n",
    "\n",
    "layout.add_constraint(\n",
    "    co.InnerMargin(side=\"bottom\"), (\"AxesRight/Frame\", \"Figure\"), (margin_bottom,)\n",
    ")\n",
    "\n",
    "# Set the left/right margins\n",
    "margin_left, margin_right = (0.5, 0.5)\n",
    "\n",
    "layout.add_constraint(\n",
    "    co.InnerMargin(side='left'), (\"AxesLeft/Frame\", \"Figure\"), (margin_left,)\n",
    ")\n",
    "\n",
    "layout.add_constraint(\n",
    "    co.InnerMargin(side='right'), (\"AxesRight/Frame\", \"Figure\"), (margin_right,)\n",
    ")"
   ]
  },
  {
   "cell_type": "code",
   "execution_count": null,
   "id": "453aa970",
   "metadata": {},
   "outputs": [],
   "source": [
    "# Now the margins are all constrained!\n",
    "# The grid arrangement of the left/middle/right axes is clearer since the axes have been moved apart\n",
    "fig, ax = figure_layout(layout)"
   ]
  },
  {
   "cell_type": "markdown",
   "id": "0866e7b2-c69c-43d1-9bc6-65de4f26ff9a",
   "metadata": {},
   "source": [
    "## Use the `layout` to plot the figure\n",
    "\n",
    "We can solve the `layout` to determine a set of primitives that satisfy the constraints.\n",
    "The solved primitives are then used to generate matplotlib figure and axes objects that reflect the layout.\n",
    "\n",
    "This is nice because the figure design and arrangement is separated from the plotting of data."
   ]
  },
  {
   "cell_type": "code",
   "execution_count": null,
   "id": "6a879951-73f3-4d43-998a-564647a94f44",
   "metadata": {},
   "outputs": [],
   "source": [
    "prim_tree_n, solve_info = solve(layout)\n",
    "\n",
    "# The `subplots` function uses the solved primitives to create figure and axes objects with the determined sizes\n",
    "# `axs` is a dictionary with keys matching the axes names\n",
    "fig, axs = subplots(prim_tree_n)"
   ]
  },
  {
   "cell_type": "markdown",
   "id": "b678d9f3",
   "metadata": {},
   "source": [
    "## Plot the \"Ten Simple Rules for Better Figures\" dataset\n",
    "\n",
    "We can use the generated figure and axes to plot data now."
   ]
  },
  {
   "cell_type": "code",
   "execution_count": null,
   "id": "5a3fc270-4aac-4abe-943d-6c90e9c7f88e",
   "metadata": {},
   "outputs": [],
   "source": [
    "# The data below is approximated from a New York Times article ()\n",
    "# and is adapted from the figure-1.py file available at (https://github.com/rougier/ten-rules)\n",
    "\n",
    "diseases = [\n",
    "    \"Kidney Cancer\",\n",
    "    \"Bladder Cancer\",\n",
    "    \"Esophageal Cancer\",\n",
    "    \"Ovarian Cancer\",\n",
    "    \"Liver Cancer\",\n",
    "    \"Non-Hodgkin's\\nlymphoma\",\n",
    "    \"Leukemia\",\n",
    "    \"Prostate Cancer\",\n",
    "    \"Pancreatic Cancer\",\n",
    "    \"Breast Cancer\",\n",
    "    \"Colorectal Cancer\",\n",
    "    \"Lung Cancer\",\n",
    "]\n",
    "men_deaths = [\n",
    "    10000,\n",
    "    12000,\n",
    "    13000,\n",
    "    0,\n",
    "    14000,\n",
    "    12000,\n",
    "    16000,\n",
    "    25000,\n",
    "    20000,\n",
    "    500,\n",
    "    25000,\n",
    "    80000,\n",
    "]\n",
    "men_cases = [\n",
    "    30000,\n",
    "    50000,\n",
    "    13000,\n",
    "    0,\n",
    "    16000,\n",
    "    30000,\n",
    "    25000,\n",
    "    220000,\n",
    "    22000,\n",
    "    600,\n",
    "    55000,\n",
    "    115000,\n",
    "]\n",
    "women_deaths = [\n",
    "    6000,\n",
    "    5500,\n",
    "    5000,\n",
    "    20000,\n",
    "    9000,\n",
    "    12000,\n",
    "    13000,\n",
    "    0,\n",
    "    19000,\n",
    "    40000,\n",
    "    30000,\n",
    "    70000,\n",
    "]\n",
    "women_cases = [\n",
    "    20000,\n",
    "    18000,\n",
    "    5000,\n",
    "    25000,\n",
    "    9000,\n",
    "    29000,\n",
    "    24000,\n",
    "    0,\n",
    "    21000,\n",
    "    160000,\n",
    "    55000,\n",
    "    97000,\n",
    "]\n",
    "\n",
    "y_diseases = np.arange(len(diseases))"
   ]
  },
  {
   "cell_type": "code",
   "execution_count": null,
   "id": "e1dd6749-4b65-4617-9152-e56c28f16b04",
   "metadata": {},
   "outputs": [],
   "source": [
    "def format_axes(ax):\n",
    "    \"\"\"\n",
    "    Apply the Axes formatting used in \"Ten Simple Rules\"\n",
    "    \"\"\"\n",
    "    if not ax.xaxis.get_inverted():\n",
    "        origin_side = \"left\"\n",
    "        far_side = \"right\"\n",
    "    else:\n",
    "        origin_side = \"right\"\n",
    "        far_side = \"left\"\n",
    "\n",
    "    ax.spines[far_side].set_color(\"none\")\n",
    "    ax.spines[origin_side].set_zorder(10)\n",
    "    ax.spines[\"bottom\"].set_color(\"none\")\n",
    "\n",
    "    # ax.xaxis.set_ticks_position(\"top\")\n",
    "\n",
    "    # ax.yaxis.set_ticks_position(origin_side)\n",
    "    ax.yaxis.set_ticks(y_diseases, labels=[\"\"] * len(y_diseases))\n",
    "\n",
    "    ax.spines[\"top\"].set_position((\"data\", len(diseases) + 0.25))\n",
    "    ax.spines[\"top\"].set_color(\"w\")"
   ]
  },
  {
   "cell_type": "code",
   "execution_count": null,
   "id": "4da120e8-d200-4ad1-9714-49adf76afa1e",
   "metadata": {},
   "outputs": [],
   "source": [
    "## Here we plot the actual NYT figure from the article\n",
    "\n",
    "for ax in axs.values():\n",
    "    ax.set_xlim(0, 200000)\n",
    "\n",
    "# Plot the men/womens data\n",
    "axs[\"AxesLeft\"].barh(y_diseases, women_cases, height=0.8, fc=\"red\", alpha=0.1)\n",
    "axs[\"AxesLeft\"].barh(y_diseases, women_deaths, height=0.55, fc=\"red\", alpha=0.5)\n",
    "axs[\"AxesLeft\"].xaxis.set_inverted(True)\n",
    "\n",
    "axs[\"AxesRight\"].barh(y_diseases, men_cases, height=0.8, fc=\"blue\", alpha=0.1)\n",
    "axs[\"AxesRight\"].barh(y_diseases, men_deaths, height=0.55, fc=\"blue\", alpha=0.5)\n",
    "\n",
    "axs_labels = [\"AxesLeft\", \"AxesRight\"]\n",
    "axs_categories = [\"women\", \"men\"]\n",
    "category_to_ax = {\n",
    "    category: axs[key]\n",
    "    for category, key in zip(axs_categories, axs_labels)\n",
    "}\n",
    "for category, ax in category_to_ax.items():\n",
    "    format_axes(ax)\n",
    "    ax.set_xticks(\n",
    "        [0, 50000, 100000, 150000, 200000],\n",
    "        [category.upper(), \"50,000\", \"100,000\", \"150,000\", \"200,000\"],\n",
    "    )\n",
    "    ax.grid(which=\"major\", axis=\"x\", color=\"white\")\n",
    "    ax.get_xticklabels()[0].set_weight(\"bold\")\n",
    "\n",
    "# Add ylabels to 'AxesMid'\n",
    "axs[\"AxesMid\"].set_axis_off()\n",
    "axs[\"AxesMid\"].set_ylim(axs[\"AxesLeft\"].get_ylim())\n",
    "axs[\"AxesMid\"].set_xlim(-1, 1)\n",
    "\n",
    "for y, disease_name in zip(y_diseases, diseases):\n",
    "    axs[\"AxesMid\"].text(0, y, disease_name, ha=\"center\", va=\"center\")\n",
    "\n",
    "# Add the \"NEW CASES\" and \"DEATHS\" annotations\n",
    "# Devil hides in the details...\n",
    "arrowprops = {\"arrowstyle\": \"-\", \"connectionstyle\": \"angle,angleA=0,angleB=90,rad=0\"}\n",
    "\n",
    "x = women_cases[-1]\n",
    "y = y_diseases[-1]\n",
    "axs[\"AxesLeft\"].annotate(\n",
    "    \"NEW CASES\",\n",
    "    xy=(0.9 * x, y),\n",
    "    xycoords=\"data\",\n",
    "    ha=\"right\",\n",
    "    fontsize=10,\n",
    "    xytext=(-40, -3),\n",
    "    textcoords=\"offset points\",\n",
    "    arrowprops=arrowprops,\n",
    ")\n",
    "\n",
    "x = women_deaths[-1]\n",
    "axs[\"AxesLeft\"].annotate(\n",
    "    \"DEATHS\",\n",
    "    xy=(0.85 * x, y),\n",
    "    xycoords=\"data\",\n",
    "    ha=\"right\",\n",
    "    fontsize=10,\n",
    "    xytext=(-50, -25),\n",
    "    textcoords=\"offset points\",\n",
    "    arrowprops=arrowprops,\n",
    ")\n",
    "\n",
    "x = men_cases[-1]\n",
    "axs[\"AxesRight\"].annotate(\n",
    "    \"NEW CASES\",\n",
    "    xy=(0.9 * x, y),\n",
    "    xycoords=\"data\",\n",
    "    ha=\"left\",\n",
    "    fontsize=10,\n",
    "    xytext=(+40, -3),\n",
    "    textcoords=\"offset points\",\n",
    "    arrowprops=arrowprops,\n",
    ")\n",
    "\n",
    "x = men_deaths[-1]\n",
    "axs[\"AxesRight\"].annotate(\n",
    "    \"DEATHS\",\n",
    "    xy=(0.9 * x, y),\n",
    "    xycoords=\"data\",\n",
    "    ha=\"left\",\n",
    "    fontsize=10,\n",
    "    xytext=(+50, -25),\n",
    "    textcoords=\"offset points\",\n",
    "    arrowprops=arrowprops,\n",
    ")\n",
    "\n",
    "# Add the caption text\n",
    "axs[\"AxesLeft\"].text(\n",
    "    165000, 8.2, \"Leading Causes\\nOf Cancer Deaths\", fontsize=18, va=\"top\"\n",
    ")\n",
    "axs[\"AxesLeft\"].text(\n",
    "    165000,\n",
    "    7,\n",
    "    \"In 2007, there were more\\n\"\n",
    "    \"than 1.4 million new cases\\n\"\n",
    "    \"of cancer in the United States.\",\n",
    "    va=\"top\",\n",
    "    fontsize=10,\n",
    ")\n",
    "\n",
    "fig"
   ]
  },
  {
   "cell_type": "markdown",
   "id": "9e5c12c7",
   "metadata": {},
   "source": [
    "#### Update x and y axis sizes\n",
    "\n",
    "Now that data is plotted the x and y axis for the left/right axes have tick labels inside that change the whitespace.\n",
    "You can use `update_layout_constraints` and the `XAxisHeight` and `YAxisWidth` constraints to update the axis sizes and adjust the figure layout."
   ]
  },
  {
   "cell_type": "code",
   "execution_count": null,
   "id": "e660bb3a",
   "metadata": {},
   "outputs": [],
   "source": [
    "# Update boundings boxes for the x/y axis now that text has been inserted\n",
    "# This will update the layout of axes\n",
    "update_layout_constraints(layout, axs)\n",
    "\n",
    "prim_tree_n, info = solve(layout)\n",
    "update_subplots(prim_tree_n, \"Figure\", fig, axs)\n",
    "\n",
    "fig\n",
    "fig.savefig(\"ten_simple_rules_demo.svg\")"
   ]
  },
  {
   "cell_type": "code",
   "execution_count": null,
   "id": "f12e2ddf",
   "metadata": {},
   "outputs": [],
   "source": [
    "# If you plot the layout after axis sizes are updated, you can see the altered dimensions!\n",
    "fig, ax = figure_layout(layout)"
   ]
  }
 ],
 "metadata": {
  "kernelspec": {
   "display_name": "numerics",
   "language": "python",
   "name": "python3"
  },
  "language_info": {
   "codemirror_mode": {
    "name": "ipython",
    "version": 3
   },
   "file_extension": ".py",
   "mimetype": "text/x-python",
   "name": "python",
   "nbconvert_exporter": "python",
   "pygments_lexer": "ipython3",
   "version": "3.12.7"
  }
 },
 "nbformat": 4,
 "nbformat_minor": 5
}
