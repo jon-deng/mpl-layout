{
 "cells": [
  {
   "cell_type": "markdown",
   "metadata": {},
   "source": [
    "# One Axes Figure\n",
    "\n",
    "This example demonstrates how to create a one axes figure with fixed margins around the axes using both `mpllayout` and pure `matplotlib`."
   ]
  },
  {
   "cell_type": "code",
   "execution_count": null,
   "metadata": {},
   "outputs": [],
   "source": [
    "import numpy as np\n",
    "from matplotlib import pyplot as plt\n",
    "\n",
    "from mpllayout import primitives as pr\n",
    "from mpllayout import constraints as co\n",
    "from mpllayout import layout as lay\n",
    "from mpllayout import solver\n",
    "from mpllayout import matplotlibutils as lplt\n"
   ]
  },
  {
   "cell_type": "markdown",
   "metadata": {},
   "source": [
    "## Creating the layout using `mpllayout`"
   ]
  },
  {
   "cell_type": "code",
   "execution_count": null,
   "metadata": {},
   "outputs": [],
   "source": [
    "layout = lay.Layout()\n",
    "\n",
    "## Create the figure and axes\n",
    "layout.add_prim(pr.Quadrilateral(), \"Figure\")\n",
    "layout.add_prim(pr.Axes(), \"Axes\")\n",
    "\n",
    "## Constrain figure and axes quadirlateral to be rectangular\n",
    "layout.add_constraint(co.Box(), (\"Figure\",), ())\n",
    "layout.add_constraint(co.Box(), (\"Axes/Frame\",), ())\n",
    "\n",
    "## Constrain the figure size\n",
    "fig_width, fig_height = 6, 3\n",
    "layout.add_constraint(co.XLength(), (\"Figure/Line0\",), (fig_width,))\n",
    "layout.add_constraint(co.YLength(), (\"Figure/Line1\",), (fig_height,))\n",
    "\n",
    "## Constrain 'Axes' margins\n",
    "# Constrain left/right margins\n",
    "margin_left = 1.1\n",
    "margin_right = 1.1\n",
    "layout.add_constraint(\n",
    "    co.InnerMargin(side='left'), (\"Axes/Frame\", \"Figure\"), (margin_left,)\n",
    ")\n",
    "layout.add_constraint(\n",
    "    co.InnerMargin(side='right'), (\"Axes/Frame\", \"Figure\"), (margin_right,)\n",
    ")\n",
    "\n",
    "# Constrain top/bottom margins\n",
    "margin_top = 1.1\n",
    "margin_bottom = 0.5\n",
    "layout.add_constraint(\n",
    "    co.InnerMargin(side='bottom'), (\"Axes/Frame\", \"Figure\"), (margin_bottom,)\n",
    ")\n",
    "layout.add_constraint(\n",
    "    co.InnerMargin(side='top'), (\"Axes/Frame\", \"Figure\"), (margin_top,)\n",
    ")\n",
    "\n",
    "## Solve the constraints\n",
    "prim_tree_n, info = solver.solve(layout)"
   ]
  },
  {
   "cell_type": "code",
   "execution_count": null,
   "metadata": {},
   "outputs": [],
   "source": [
    "# Used the solved constraints to form the figure and axes objects, then plot\n",
    "fig, axs = lplt.subplots(prim_tree_n)\n",
    "\n",
    "ax = axs[\"Axes\"]\n",
    "\n",
    "x = np.linspace(0, 1)\n",
    "ax.plot(x, x**2)\n",
    "\n",
    "ax.set_xlabel(\"x\")\n",
    "ax.set_ylabel(\"y\")"
   ]
  },
  {
   "cell_type": "markdown",
   "metadata": {},
   "source": [
    "## Creating the layout using pure `matplotlib`\n",
    "\n",
    "There are multiple approaches to create the above layout using pure `matplotlib`; however, some may not have the precise margins specified.\n",
    "To create the layout using pure `matplotlib`, the axes position that satisfies the desired margins and figure size must be determined.\n",
    "This essentially involves manually \"solving\" the system of constraints.\n",
    "For the simple case of fixed margins around a single axes, the solution is given by the code below.\n",
    "This is the basic process that `mpllayout` performs but for general constraints, which allows for more complicated layouts."
   ]
  },
  {
   "cell_type": "code",
   "execution_count": null,
   "metadata": {},
   "outputs": [],
   "source": [
    "## This code determines the axes sizes needed to achieve the desired margins\n",
    "\n",
    "# Specify the desired figure size and margins\n",
    "fig_width, fig_height = 6, 3\n",
    "\n",
    "margin_left = 1.1\n",
    "margin_right = 1.1\n",
    "\n",
    "margin_top = 1.1\n",
    "margin_bottom = 0.5\n",
    "\n",
    "# The code below \"solves\" the axes position needed to achieve the given margins.\n",
    "# Using this approach calculates maintains the same margins even if the figure\n",
    "# dimensions are changed.\n",
    "# This is essentially what `mpllayout` does.\n",
    "coord_botleft = np.array((margin_left, margin_bottom))\n",
    "coord_topright = np.array((fig_width - margin_right, fig_height-margin_top))\n",
    "\n",
    "# Scale the coordinates relative to the figure size since this is how `matplotlib`\n",
    "# interprets the axes position\n",
    "coord_botleft = coord_botleft / (fig_width, fig_height)\n",
    "coord_topright = coord_topright / (fig_width, fig_height)\n",
    "\n",
    "# Determine the axes width and height\n",
    "axes_width, axes_height = (coord_topright - coord_botleft)"
   ]
  },
  {
   "cell_type": "code",
   "execution_count": null,
   "metadata": {},
   "outputs": [],
   "source": [
    "# Use the \"solved\" axes position and figure size to create the figure\n",
    "fig = plt.figure(figsize=(fig_width, fig_height))\n",
    "ax = fig.add_axes((*coord_botleft, axes_width, axes_height))\n",
    "\n",
    "x = np.linspace(0, 1)\n",
    "ax.plot(x, x**2)\n",
    "\n",
    "ax.set_xlabel(\"x\")\n",
    "ax.set_ylabel(\"y\")\n",
    "\n",
    "# fig"
   ]
  }
 ],
 "metadata": {
  "kernelspec": {
   "display_name": "numerics",
   "language": "python",
   "name": "python3"
  },
  "language_info": {
   "codemirror_mode": {
    "name": "ipython",
    "version": 3
   },
   "file_extension": ".py",
   "mimetype": "text/x-python",
   "name": "python",
   "nbconvert_exporter": "python",
   "pygments_lexer": "ipython3",
   "version": "3.12.7"
  }
 },
 "nbformat": 4,
 "nbformat_minor": 2
}
