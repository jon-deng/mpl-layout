{
 "cells": [
  {
   "cell_type": "markdown",
   "metadata": {},
   "source": [
    "# Tutorial\n",
    "\n",
    "This tutorial demonstrates the main workflow for using `mpllayout`.\n",
    "\n",
    "The workflow involves just a few high-level steps:\n",
    "1. Create a layout object to store the layout, `layout = Layout()`\n",
    "2. Add geometric primitives to `layout` using `layout.add_prim`. These primitives represent figure elements.\n",
    "3. Add geometric constraints to `layout` using `layout.add_constraint` to constrain the primitives.\n",
    "4. Solve the constrained layout of primitives using `constrained_prims = solve(layout.root_prim, *layout.flat_constraints())`\n",
    "5. Generate a figure and axes to plot in using `fig, axs = subplots(constrained_prims)`\n",
    "\n",
    "The generated `fig` and `axs` will reflect the constrained layout."
   ]
  },
  {
   "cell_type": "code",
   "execution_count": null,
   "metadata": {},
   "outputs": [],
   "source": [
    "import numpy as np\n",
    "\n",
    "import matplotlib as mpl\n",
    "from matplotlib import pyplot as plt\n",
    "\n",
    "# `layout` contains the `Layout` class and related functions\n",
    "from mpllayout import layout as lay\n",
    "# `primitives` contains primitives and `constraints` constraints\n",
    "from mpllayout import primitives as pr\n",
    "from mpllayout import constraints as co\n",
    "# `solve` is used to solve the constrained layout\n",
    "from mpllayout.solver import solve\n",
    "\n",
    "# `subplots` and `update_subplots` are used to create matplotlib figure and\n",
    "# axes objects from geometric primitives\n",
    "from mpllayout.matplotlibutils import subplots, update_subplots\n",
    "\n",
    "# `ui` contains functions to visualize primitives\n",
    "from mpllayout import ui"
   ]
  },
  {
   "cell_type": "markdown",
   "metadata": {},
   "source": [
    "## Step 1: Create the layout"
   ]
  },
  {
   "cell_type": "code",
   "execution_count": null,
   "metadata": {},
   "outputs": [],
   "source": [
    "# Create the layout to store constraints and primitives\n",
    "layout = lay.Layout()"
   ]
  },
  {
   "cell_type": "markdown",
   "metadata": {},
   "source": [
    "## Step 2: Add geometric primitives\n",
    "\n",
    "Geometric primitives represent geometry and are defined in `mpllayout.primitives`.\n",
    "Each primitive consists of a parameter vector (`primitive.value`) with child primitives (`primitive[\"child_key\"]`).\n",
    "For example:\n",
    "\n",
    "* `Point` represents a point and has a parameter vector containing its coordinates with no child primitives\n",
    "* `Line` represents a straight line segment, has no parameter vector, and contains two points representing the start point (`line[\"Point0\"]`) and end point (`line[\"Point1\"]`)\n",
    "* Other primitives are documented in the module\n",
    "\n",
    "Geometric primitives are added using the call\n",
    "`layout.add_prim(primitive, key)`\n",
    "where `primitive` is a geometric primitive object and `key` is a string used to identify it."
   ]
  },
  {
   "cell_type": "code",
   "execution_count": null,
   "metadata": {},
   "outputs": [],
   "source": [
    "# A `Quadrilateral` is a 4 sided polygon which can be used to represent the figure box.\n",
    "# Naming the quad \"Figure\" will cause the `subplots` command to create a figure of the same size.\n",
    "layout.add_prim(pr.Quadrilateral(), \"Figure\")\n",
    "\n",
    "# The `Axes` primitive is a collection of quadrilaterals and points used to represent an axes.\n",
    "# The child primitives of `Axes` are\n",
    "# - \"Frame\": a `Quadrilateral` representing the plotting area of the axes\n",
    "# - \"XAxis\": a `Quadrilateral` bounding x-axis ticks and tick labels\n",
    "# - \"XAxisLabel\": a `Point` for the x-axis label text anchor\n",
    "# - \"YAxis\": a `Quadrilateral` bounding y-axis ticks and tick labels\n",
    "# - \"YAxisLabel\": a `Point` for the y-axis label text anchor\n",
    "# The x/y axis can be optionally included by kwargs as seen below\n",
    "layout.add_prim(pr.Axes(xaxis=True, yaxis=True), \"Axes\")"
   ]
  },
  {
   "cell_type": "markdown",
   "metadata": {},
   "source": [
    "## Step 3: Add geometric constraints\n",
    "\n",
    "Geometric constraints represent constraints or conditions on primitives and are defined in `mpllayout.constraints`.\n",
    "Every constraint has a method representing the condition\n",
    "`Constraint.assem_res(prims, **kwargs)`, \n",
    "where `prims` is a tuple of primitives the constraint applies to and `**kwargs` are constraint specific parameters.\n",
    "The constraint is satisfied when `assem_res` is 0.\n",
    "\n",
    "For example:\n",
    "\n",
    "* `Coincident().assem_res((pointa, pointb))` represents the coincidence error between two `pointa` and `pointb` (no parameters are needed).\n",
    "* `Length().assem_res((linea,), length=7)` represents the length error for `linea` compared to the desired length of 7.\n",
    "* Other constraints are documented in the module\n",
    "\n",
    "Geometric constraints are added to a layout using the call\n",
    "`layout.add_constraint(constraint, prim_keys, constraint_params)`,\n",
    "where \n",
    "\n",
    "* `constraint` is the geometric constraint object\n",
    "* `prim_keys` is a tuple of primitive keys representing the primitives to constrain\n",
    "* `constraint_params` is a dictionary or tuple of constraint specific parameters.\n",
    "\n",
    "`prim_keys` can recursively indicate primitives uses slash separated keys.\n",
    "For example the tuple `(\"Figure/Line0/Point0\", \"Axes/Frame/Line0\")` represents the point 0 of the figure quadrilateral (the bottom left) and line 0 of the axes frame quadrilateral (the bottom line).\n",
    "\n",
    "`constraint_params` represents the `**kwargs` of `assem_res`.\n",
    "This can be either a dictionary or tuple representing the kwargs.\n",
    "\n",
    "The next few sections add sets of constraints and plot the resulting constrained layout to illustrate their effect.\n"
   ]
  },
  {
   "cell_type": "markdown",
   "metadata": {},
   "source": [
    "### Make all quadrilaterals rectangular\n",
    "\n",
    "`Quadrilateral`s have 4 unknown coordinates for each corner. \n",
    "To make them rectangular boxes like axes and figures, apply the `Box` constraint."
   ]
  },
  {
   "cell_type": "code",
   "execution_count": null,
   "metadata": {},
   "outputs": [],
   "source": [
    "# NOTE: This step is needed because `Quadrilateral` by default don't have\n",
    "# to be rectangles\n",
    "layout.add_constraint(co.Box(), (\"Figure\",), ())\n",
    "layout.add_constraint(co.Box(), (\"Axes/Frame\",), ())\n",
    "layout.add_constraint(co.Box(), (\"Axes/XAxis\",), ())\n",
    "layout.add_constraint(co.Box(), (\"Axes/YAxis\",), ())"
   ]
  },
  {
   "cell_type": "code",
   "execution_count": null,
   "metadata": {},
   "outputs": [],
   "source": [
    "# The layout currently looks like:\n",
    "_fig, _ = ui.figure_prims(solve(layout)[0], fig_size=(5, 5))"
   ]
  },
  {
   "cell_type": "markdown",
   "metadata": {},
   "source": [
    "### Fix the figure position and size"
   ]
  },
  {
   "cell_type": "code",
   "execution_count": null,
   "metadata": {},
   "outputs": [],
   "source": [
    "# Fix the figure bottom left to the origin\n",
    "layout.add_constraint(co.Fix(), (\"Figure/Line0/Point0\",), (np.array([0, 0]),))\n",
    "\n",
    "# Figure the figure width and height\n",
    "fig_width, fig_height = 6, 3\n",
    "layout.add_constraint(co.XLength(), (\"Figure/Line0\",), (fig_width,))\n",
    "layout.add_constraint(co.YLength(), (\"Figure/Line1\",), (fig_height,))"
   ]
  },
  {
   "cell_type": "code",
   "execution_count": null,
   "metadata": {},
   "outputs": [],
   "source": [
    "# The layout currently looks like:\n",
    "_fig, _ = ui.figure_prims(solve(layout)[0], fig_size=(5, 5))"
   ]
  },
  {
   "cell_type": "markdown",
   "metadata": {},
   "source": [
    "### Position the x and y axis and axis labels"
   ]
  },
  {
   "cell_type": "code",
   "execution_count": null,
   "metadata": {},
   "outputs": [],
   "source": [
    "## Position the x axis on top and the y axis on the bottom\n",
    "# When creating axes from the primitives, `subplots` will detect axis\n",
    "# positions and set axis properties to reflect them.\n",
    "layout.add_constraint(co.PositionXAxis(side='top'), (\"Axes\", ), ())\n",
    "layout.add_constraint(co.PositionYAxis(side='right'), (\"Axes\", ), ())\n",
    "\n",
    "# Link x/y axis width/height to axis sizes in matplotlib.\n",
    "# Axis sizes change depending on the size of their tick labels so the\n",
    "# axis width/height must be linked to matplotlib and updated from plot\n",
    "# elements.\n",
    "layout.add_constraint(\n",
    "    co.XAxisHeight(), (\"Axes/XAxis\",), (None,),\n",
    ")\n",
    "layout.add_constraint(\n",
    "    co.YAxisWidth(), (\"Axes/YAxis\",), (None,),\n",
    ")\n",
    "\n",
    "## Position the x/y axis label text anchors\n",
    "# When creating axes from the primitives, `subplots` will detect these and set\n",
    "# their locations\n",
    "on_line = co.RelativePointOnLineDistance()\n",
    "to_line = co.PointToLineDistance()\n",
    "\n",
    "## Pad the x/y axis label from the axis bbox\n",
    "pad = 1/16\n",
    "layout.add_constraint(to_line, (\"Axes/XAxisLabel\", \"Axes/XAxis/Line2\"), (True, pad))\n",
    "layout.add_constraint(to_line, (\"Axes/YAxisLabel\", \"Axes/YAxis/Line1\"), (True, pad))\n",
    "\n",
    "## Center the axis labels halfway along the axes width/height\n",
    "layout.add_constraint(co.PositionXAxisLabel(), (\"Axes\",), (0.5,))\n",
    "layout.add_constraint(co.PositionYAxisLabel(), (\"Axes\",), (0.5,))"
   ]
  },
  {
   "cell_type": "code",
   "execution_count": null,
   "metadata": {},
   "outputs": [],
   "source": [
    "# The layout currently looks like:\n",
    "_fig, _ = ui.figure_prims(solve(layout)[0], fig_size=(5, 5))"
   ]
  },
  {
   "cell_type": "markdown",
   "metadata": {},
   "source": [
    "### Set margins between the axes and figure"
   ]
  },
  {
   "cell_type": "code",
   "execution_count": null,
   "metadata": {},
   "outputs": [],
   "source": [
    "## Constrain margins around the axes to the figure\n",
    "# Constrain left/right margins\n",
    "margin_left = 0.1\n",
    "margin_right = 1/4\n",
    "\n",
    "layout.add_constraint(\n",
    "    co.InnerMargin(side='left'), (\"Axes/Frame\", \"Figure\"), (margin_left,)\n",
    ")\n",
    "layout.add_constraint(\n",
    "    co.InnerMargin(side='right'), (\"Axes/YAxis\", \"Figure\"), (margin_right,)\n",
    ")\n",
    "\n",
    "# Constrain top/bottom margins\n",
    "margin_top = 1/4\n",
    "margin_bottom = 0.1\n",
    "layout.add_constraint(\n",
    "    co.InnerMargin(side='bottom'), (\"Axes/Frame\", \"Figure\"), (margin_bottom,)\n",
    ")\n",
    "layout.add_constraint(\n",
    "    co.InnerMargin(side='top'), (\"Axes/XAxis\", \"Figure\"), (margin_top,)\n",
    ")\n"
   ]
  },
  {
   "cell_type": "code",
   "execution_count": null,
   "metadata": {},
   "outputs": [],
   "source": [
    "# The layout currently looks like:\n",
    "_fig, _ = ui.figure_prims(solve(layout)[0], fig_size=(5, 5))"
   ]
  },
  {
   "cell_type": "markdown",
   "metadata": {},
   "source": [
    "## Step 4: Solve the constrained layout "
   ]
  },
  {
   "cell_type": "code",
   "execution_count": null,
   "metadata": {},
   "outputs": [],
   "source": [
    "## Solve the constraints and form the figure/axes layout\n",
    "prim_tree_n, solve_info = solve(layout)\n",
    "\n",
    "print(f\"Absolute errors: {solve_info['abs_errs']}\")\n",
    "print(f\"Relative errors: {solve_info['rel_errs']}\")"
   ]
  },
  {
   "cell_type": "markdown",
   "metadata": {},
   "source": [
    "## Step 5: Plot into the figure and axes "
   ]
  },
  {
   "cell_type": "code",
   "execution_count": null,
   "metadata": {},
   "outputs": [],
   "source": [
    "## Plot into the generated figure and axes\n",
    "fig, axs = subplots(prim_tree_n)\n",
    "\n",
    "x = np.linspace(0, 1)\n",
    "axs[\"Axes\"].plot(x, x**2)\n",
    "\n",
    "axs[\"Axes\"].xaxis.set_label_text(\"My x label\", ha=\"center\", va=\"bottom\")\n",
    "axs[\"Axes\"].yaxis.set_label_text(\"My y label\", ha=\"center\", va=\"bottom\", rotation=-90)\n",
    "\n",
    "ax = axs[\"Axes\"]\n",
    "\n",
    "# Using the generated axes and x/y axis contents, the layout constraints\n",
    "# can be updated with those matplotlib elements\n",
    "layout = lay.update_layout_constraints(layout, axs)\n",
    "prim_tree_n, solve_info = solve(layout)\n",
    "\n",
    "# This updates the figure and axes using the updated layout\n",
    "update_subplots(prim_tree_n, \"Figure\", fig, axs)"
   ]
  },
  {
   "cell_type": "code",
   "execution_count": null,
   "metadata": {},
   "outputs": [],
   "source": [
    "# The layout currently looks like:\n",
    "_fig, _ = ui.figure_prims(solve(layout)[0], fig_size=(5, 5))\n",
    "\n",
    "# Note that x and y axis dimensions have adjusted"
   ]
  },
  {
   "cell_type": "code",
   "execution_count": null,
   "metadata": {},
   "outputs": [],
   "source": []
  }
 ],
 "metadata": {
  "kernelspec": {
   "display_name": "numerics",
   "language": "python",
   "name": "python3"
  },
  "language_info": {
   "codemirror_mode": {
    "name": "ipython",
    "version": 3
   },
   "file_extension": ".py",
   "mimetype": "text/x-python",
   "name": "python",
   "nbconvert_exporter": "python",
   "pygments_lexer": "ipython3",
   "version": "3.12.7"
  }
 },
 "nbformat": 4,
 "nbformat_minor": 2
}
