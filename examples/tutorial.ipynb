{
 "cells": [
  {
   "cell_type": "markdown",
   "metadata": {},
   "source": [
    "# Tutorial\n",
    "\n",
    "This tutorial demonstrates the main workflow for using `mpllayout`.\n",
    "\n",
    "The workflow involves just a few high-level steps:\n",
    "1. Create a layout object to store the layout, `layout = Layout()`\n",
    "2. Add geometric primitives to `layout` using `layout.add_prim`. These primitives represent figure elements.\n",
    "3. Add geometric constraints to `layout` using `layout.add_constraint` to constrain the primitives.\n",
    "4. Solve the constrained layout of primitives using `constrained_prims = solve(layout.root_prim, *layout.flat_constraints())`\n",
    "5. Generate a figure and axes to plot in using `fig, axs = subplots(constrained_prims)`\n",
    "\n",
    "The generated `fig` and `axs` will reflect the constrained layout."
   ]
  },
  {
   "cell_type": "code",
   "execution_count": null,
   "metadata": {},
   "outputs": [],
   "source": [
    "import numpy as np\n",
    "\n",
    "import matplotlib as mpl\n",
    "from matplotlib import pyplot as plt\n",
    "\n",
    "# `layout` contains the `Layout` class and related functions\n",
    "from mpllayout import layout as lay\n",
    "# `geometry` contains primitive and constraint objects\n",
    "from mpllayout import geometry as geo\n",
    "# `solve` is used to solve the constrained layout\n",
    "from mpllayout.solver import solve\n",
    "\n",
    "# `subplots` and `update_subplots` are used to create matplotlib figure and\n",
    "# axes objects from geometric primitives\n",
    "from mpllayout.matplotlibutils import subplots, update_subplots\n",
    "\n",
    "# `ui` contains functions to visualize primitives\n",
    "from mpllayout import ui"
   ]
  },
  {
   "cell_type": "markdown",
   "metadata": {},
   "source": [
    "## 1. Create the layout"
   ]
  },
  {
   "cell_type": "code",
   "execution_count": null,
   "metadata": {},
   "outputs": [],
   "source": [
    "# Create the layout to store constraints and primitives\n",
    "layout = lay.Layout()"
   ]
  },
  {
   "cell_type": "markdown",
   "metadata": {},
   "source": [
    "## 2. Add geometric primitives\n",
    "\n",
    "Geometric primitives represent geometry and are defined in `mpllayout.primitives`.\n",
    "Each primitive consists of a parameter vector (`primitive.value`) with child primitives (`primitive[\"child_key\"]`).\n",
    "For example:\n",
    "\n",
    "* `Point` represents a point and has a parameter vector containing its coordinates with no child primitives\n",
    "* `Line` represents a straight line segment, has no parameter vector, and contains two points representing the start point (`line[\"Point0\"]`) and end point (`line[\"Point1\"]`)\n",
    "* Other primitives are documented in the module\n",
    "\n",
    "Geometric primitives are added using the signature\n",
    "`layout.add_prim(primitive, key)`\n",
    "where `primitive` is a geometric primitive object and `key` is a string used to identify it."
   ]
  },
  {
   "cell_type": "code",
   "execution_count": null,
   "metadata": {},
   "outputs": [],
   "source": [
    "# A `Quadrilateral` is a 4 sided polygon which can be used to represent the figure box.\n",
    "# Naming the quad \"Figure\" will cause the `subplots` command to create a figure of the same size.\n",
    "layout.add_prim(geo.Quadrilateral(), \"Figure\")\n",
    "\n",
    "# The `Axes` primitive is a collection of quadrilaterals and points used to represent an axes.\n",
    "# The child primitives of `Axes` are\n",
    "# - \"Frame\": a `Quadrilateral` representing the plotting area of the axes\n",
    "# - \"XAxis\": a `Quadrilateral` bounding x-axis ticks and tick labels\n",
    "# - \"XAxisLabel\": a `Point` for the x-axis label text anchor\n",
    "# - \"YAxis\": a `Quadrilateral` bounding y-axis ticks and tick labels\n",
    "# - \"YAxisLabel\": a `Point` for the y-axis label text anchor\n",
    "# The x/y axis can be optionally included by kwargs as seen below\n",
    "layout.add_prim(geo.Axes(xaxis=True, yaxis=True), \"Axes\")"
   ]
  },
  {
   "cell_type": "code",
   "execution_count": null,
   "metadata": {},
   "outputs": [],
   "source": [
    "\n",
    "## Make all quadrilaterals rectangular/boxes\n",
    "# NOTE: This step is needed because `Quadrilateral` by default don't have\n",
    "# to be rectangles\n",
    "layout.add_constraint(geo.Box(), (\"Figure\",), ())\n",
    "layout.add_constraint(geo.Box(), (\"Axes/Frame\",), ())\n",
    "layout.add_constraint(geo.Box(), (\"Axes/XAxis\",), ())\n",
    "layout.add_constraint(geo.Box(), (\"Axes/YAxis\",), ())\n",
    "\n",
    "## Constrain the figure size + position\n",
    "# Fix the figure bottom left to the origin\n",
    "layout.add_constraint(geo.Fix(), (\"Figure/Line0/Point0\",), (np.array([0, 0]),))\n",
    "\n",
    "# Figure the figure width and height\n",
    "fig_width, fig_height = 6, 3\n",
    "layout.add_constraint(geo.XLength(), (\"Figure/Line0\",), (fig_width,))\n",
    "layout.add_constraint(geo.YLength(), (\"Figure/Line1\",), (fig_height,))\n",
    "\n",
    "## Constrain margins around the axes to the figure\n",
    "# Constrain left/right margins\n",
    "margin_left = 0.1\n",
    "margin_right = 1/4\n",
    "\n",
    "layout.add_constraint(\n",
    "    geo.InnerMargin(side='left'), (\"Axes/Frame\", \"Figure\"), (margin_left,)\n",
    ")\n",
    "layout.add_constraint(\n",
    "    geo.InnerMargin(side='right'), (\"Axes/YAxis\", \"Figure\"), (margin_right,)\n",
    ")\n",
    "\n",
    "# Constrain top/bottom margins\n",
    "margin_top = 1/4\n",
    "margin_bottom = 0.1\n",
    "layout.add_constraint(\n",
    "    geo.InnerMargin(side='bottom'), (\"Axes/Frame\", \"Figure\"), (margin_bottom,)\n",
    ")\n",
    "layout.add_constraint(\n",
    "    geo.InnerMargin(side='top'), (\"Axes/XAxis\", \"Figure\"), (margin_top,)\n",
    ")\n",
    "\n",
    "## Position the x axis on top and the y axis on the bottom\n",
    "# When creating axes from the primitives, `lplt.subplots` will detect axis\n",
    "# positions and set axis properties to reflect them.\n",
    "layout.add_constraint(geo.PositionXAxis(bottom=False, top=True), (\"Axes\", ), ())\n",
    "layout.add_constraint(geo.PositionYAxis(left=False, right=True), (\"Axes\", ), ())\n",
    "\n",
    "# Link x/y axis width/height to axis sizes in matplotlib.\n",
    "# Axis sizes change depending on the size of their tick labels so the\n",
    "# axis width/height must be linked to matplotlib and updated from plot\n",
    "# elements.\n",
    "layout.add_constraint(\n",
    "    geo.XAxisHeight(), (\"Axes/XAxis\",), (None,),\n",
    ")\n",
    "layout.add_constraint(\n",
    "    geo.YAxisWidth(), (\"Axes/YAxis\",), (None,),\n",
    ")\n",
    "\n",
    "## Position the x/y axis label text anchors\n",
    "# When creating axes from the primitives, `lplt.subplots` will detect these\n",
    "# and set their locations\n",
    "on_line = geo.RelativePointOnLineDistance()\n",
    "to_line = geo.PointToLineDistance()\n",
    "\n",
    "## Pad x/y axis label from the axis bbox\n",
    "pad = 1/16\n",
    "layout.add_constraint(to_line, (\"Axes/XAxisLabel\", \"Axes/XAxis/Line2\"), {\"distance\": pad, \"reverse\": True})\n",
    "layout.add_constraint(to_line, (\"Axes/YAxisLabel\", \"Axes/YAxis/Line1\"), {\"distance\": pad, \"reverse\": True})\n",
    "\n",
    "## Center the axis labels halfway along the axes width/height\n",
    "layout.add_constraint(geo.PositionXAxisLabel(), (\"Axes\",), {\"distance\": 0.5})\n",
    "layout.add_constraint(geo.PositionYAxisLabel(), (\"Axes\",), {\"distance\": 0.5})"
   ]
  },
  {
   "cell_type": "code",
   "execution_count": null,
   "metadata": {},
   "outputs": [],
   "source": []
  }
 ],
 "metadata": {
  "kernelspec": {
   "display_name": "numerics",
   "language": "python",
   "name": "python3"
  },
  "language_info": {
   "codemirror_mode": {
    "name": "ipython",
    "version": 3
   },
   "file_extension": ".py",
   "mimetype": "text/x-python",
   "name": "python",
   "nbconvert_exporter": "python",
   "pygments_lexer": "ipython3",
   "version": "3.12.7"
  }
 },
 "nbformat": 4,
 "nbformat_minor": 2
}
