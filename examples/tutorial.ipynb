{
 "cells": [
  {
   "cell_type": "markdown",
   "metadata": {},
   "source": [
    "# Tutorial\n",
    "\n",
    "This tutorial demonstrates the main workflow for using `mpllayout`.\n",
    "\n",
    "The workflow involves just a few high-level steps:\n",
    "1. Create a layout object to store the layout, `layout = Layout()`\n",
    "2. Add geometric primitives to `layout` using `layout.add_prim`. These primitives represent figure elements.\n",
    "3. Add geometric constraints to `layout` using `layout.add_constraint` to constrain the primitives.\n",
    "4. Solve the constrained layout of primitives using `constrained_prims = solve(layout.root_prim, *layout.flat_constraints())`\n",
    "5. Generate a figure and axes to plot in using `fig, axs = subplots(constraints_prims)`\n",
    "\n",
    "The generated `fig` and `axs` will reflect the constrained layout."
   ]
  },
  {
   "cell_type": "code",
   "execution_count": null,
   "metadata": {
    "vscode": {
     "languageId": "plaintext"
    }
   },
   "outputs": [],
   "source": []
  }
 ],
 "metadata": {
  "language_info": {
   "name": "python"
  }
 },
 "nbformat": 4,
 "nbformat_minor": 2
}
