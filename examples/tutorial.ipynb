{
 "cells": [
  {
   "cell_type": "markdown",
   "metadata": {},
   "source": [
    "# Tutorial\n",
    "\n",
    "This tutorial demonstrates the main workflow for using `mpllayout`.\n",
    "\n",
    "The workflow involves just a few high-level steps:\n",
    "1. Create a layout object to store the layout, `layout = Layout()`\n",
    "2. Add geometric primitives to `layout` using `layout.add_prim`. These primitives represent figure elements.\n",
    "3. Add geometric constraints to `layout` using `layout.add_constraint` to constrain the primitives.\n",
    "4. Solve the constrained layout of primitives using `constrained_prims = solve(layout.root_prim, *layout.flat_constraints())`\n",
    "5. Generate a figure and axes to plot in using `fig, axs = subplots(constrained_prims)`\n",
    "\n",
    "The generated `fig` and `axs` will reflect the constrained layout."
   ]
  },
  {
   "cell_type": "code",
   "execution_count": null,
   "metadata": {},
   "outputs": [],
   "source": [
    "import numpy as np\n",
    "\n",
    "import matplotlib as mpl\n",
    "from matplotlib import pyplot as plt\n",
    "\n",
    "# `layout` contains the `Layout` class and related functions\n",
    "from mpllayout import layout as lay\n",
    "# `geometry` contains primitive and constraint objects\n",
    "from mpllayout import geometry as geo\n",
    "# `solve` is used to solve the constrained layout\n",
    "from mpllayout.solver import solve\n",
    "\n",
    "# `subplots` and `update_subplots` are used to create matplotlib figure and\n",
    "# axes objects from geometric primitives\n",
    "from mpllayout.matplotlibutils import subplots, update_subplots\n",
    "\n",
    "# `ui` contains functions to visualize primitives\n",
    "from mpllayout import ui"
   ]
  },
  {
   "cell_type": "code",
   "execution_count": null,
   "metadata": {},
   "outputs": [],
   "source": []
  }
 ],
 "metadata": {
  "kernelspec": {
   "display_name": "numerics",
   "language": "python",
   "name": "python3"
  },
  "language_info": {
   "codemirror_mode": {
    "name": "ipython",
    "version": 3
   },
   "file_extension": ".py",
   "mimetype": "text/x-python",
   "name": "python",
   "nbconvert_exporter": "python",
   "pygments_lexer": "ipython3",
   "version": "3.12.7"
  }
 },
 "nbformat": 4,
 "nbformat_minor": 2
}
